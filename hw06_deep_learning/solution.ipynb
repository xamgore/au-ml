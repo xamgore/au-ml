{
 "cells": [
  {
   "cell_type": "code",
   "execution_count": 3,
   "metadata": {},
   "outputs": [],
   "source": [
    "import numpy as np\n",
    "import pandas as pd\n",
    "import keras\n",
    "import imageio\n",
    "import glob\n",
    "from keras.models import Sequential\n",
    "from keras.layers import *\n",
    "from keras.optimizers import SGD\n",
    "from IPython.display import Markdown, display\n",
    "import gc\n",
    "\n",
    "def printmd(string):\n",
    "    display(Markdown(string))"
   ]
  },
  {
   "cell_type": "markdown",
   "metadata": {},
   "source": [
    "Загрузим датасет, разобьём на train 90%, val 10%, test 10%."
   ]
  },
  {
   "cell_type": "code",
   "execution_count": 4,
   "metadata": {},
   "outputs": [],
   "source": [
    "df = pd.read_csv('mnist.csv', dtype=np.float32)\n",
    "\n",
    "train = df.sample(frac=0.8)\n",
    "other = df.drop(train.index)\n",
    "val   = other.sample(frac=0.5)\n",
    "test  = other.drop(val.index)\n",
    "\n",
    "split = lambda df: (\n",
    "    df.drop('label', axis=1).as_matrix() / 255,            # 255 — map colors to [0..1]\n",
    "    keras.utils.to_categorical(df.label.as_matrix(), 10))  # 10 — number of classes\n",
    "\n",
    "trainX, trainY = split(train)\n",
    "valX, valY     = split(val)\n",
    "testX, testY   = split(test)"
   ]
  },
  {
   "cell_type": "markdown",
   "metadata": {},
   "source": [
    "Функция будет обучать модель и смотреть точность."
   ]
  },
  {
   "cell_type": "code",
   "execution_count": 16,
   "metadata": {},
   "outputs": [],
   "source": [
    "def test(layers, test=True, print=True):\n",
    "    keras.backend.clear_session()\n",
    "    \n",
    "    m = Sequential()\n",
    "    for l in layers: m.add(l)\n",
    "    \n",
    "    m.compile(SGD(0.2), 'categorical_crossentropy', ['accuracy'])\n",
    "    m.fit(trainX, trainY, batch_size=128, epochs=10, verbose=True, validation_data=(valX, valY))\n",
    "\n",
    "    x, y = (testX, testY) if test else (valX, valY)\n",
    "    loss, accu = m.evaluate(x, y, verbose=False)\n",
    "    keras.backend.clear_session()\n",
    "    \n",
    "    title = '**test**' if test else '**val**'\n",
    "    if print: printmd(f'{title}: loss {loss:.3f}, accuracy {accu:.3f}')\n",
    "    return accu"
   ]
  },
  {
   "cell_type": "markdown",
   "metadata": {},
   "source": [
    "### task 1\n",
    "\n",
    "Обучите softmax регрессию на подготовленном датасете mnist."
   ]
  },
  {
   "cell_type": "code",
   "execution_count": 46,
   "metadata": {},
   "outputs": [
    {
     "data": {
      "text/markdown": [
       "**test**:  loss 0.305,   accuracy 0.903"
      ],
      "text/plain": [
       "<IPython.core.display.Markdown object>"
      ]
     },
     "metadata": {},
     "output_type": "display_data"
    }
   ],
   "source": [
    "test([\n",
    "    Dense(10, activation='softmax', input_shape=(28 * 28,)),\n",
    "])"
   ]
  },
  {
   "cell_type": "markdown",
   "metadata": {},
   "source": [
    "### task 2\n",
    "\n",
    "Добавьте один слой из 1024 нейронов с tanh функцией активации."
   ]
  },
  {
   "cell_type": "code",
   "execution_count": 48,
   "metadata": {},
   "outputs": [
    {
     "data": {
      "text/markdown": [
       "**test**:  loss 0.269,   accuracy 0.918"
      ],
      "text/plain": [
       "<IPython.core.display.Markdown object>"
      ]
     },
     "metadata": {},
     "output_type": "display_data"
    }
   ],
   "source": [
    "test([\n",
    "    Dense(1024, activation='tanh', input_shape=(28 * 28,)),\n",
    "    Dense(10,   activation='softmax'),\n",
    "])"
   ]
  },
  {
   "cell_type": "markdown",
   "metadata": {},
   "source": [
    "### task 3\n",
    "\n",
    "Добавьте к нейронной сети слой из 32-х сверток с ядром 5x5 и шагом 2 с функцией активации ReLU."
   ]
  },
  {
   "cell_type": "code",
   "execution_count": 49,
   "metadata": {},
   "outputs": [
    {
     "data": {
      "text/markdown": [
       "**test**:  loss 0.109,   accuracy 0.969"
      ],
      "text/plain": [
       "<IPython.core.display.Markdown object>"
      ]
     },
     "metadata": {},
     "output_type": "display_data"
    }
   ],
   "source": [
    "test([\n",
    "    Reshape((28, 28, 1), input_shape=(28 * 28,)),\n",
    "    Conv2D(32, (5, 5), strides=2, activation='relu'),\n",
    "    Flatten(),\n",
    "    Dense(1024, activation='tanh'),\n",
    "    Dense(10,   activation='softmax'),\n",
    "])"
   ]
  },
  {
   "cell_type": "markdown",
   "metadata": {},
   "source": [
    "### task 4\n",
    "\n",
    "Добавьте к нейронной сети слой max pool ядром (2x2) и шагом 1."
   ]
  },
  {
   "cell_type": "code",
   "execution_count": 50,
   "metadata": {},
   "outputs": [
    {
     "data": {
      "text/markdown": [
       "**test**:  loss 0.094,   accuracy 0.976"
      ],
      "text/plain": [
       "<IPython.core.display.Markdown object>"
      ]
     },
     "metadata": {},
     "output_type": "display_data"
    }
   ],
   "source": [
    "test([\n",
    "    Reshape((28, 28, 1), input_shape=(28 * 28,)),\n",
    "    Conv2D(32, (5, 5), strides=2, activation='relu'),\n",
    "    MaxPooling2D((2, 2), strides=1),\n",
    "    Flatten(),\n",
    "    Dense(1024, activation='tanh'),\n",
    "    Dense(10,   activation='softmax'),\n",
    "])"
   ]
  },
  {
   "cell_type": "markdown",
   "metadata": {},
   "source": [
    "### task 5\n",
    "\n",
    "Добавьте к нейронной сети регуляризацию dropout и оптимизируйте коэффициент, основываясь на validate сете."
   ]
  },
  {
   "cell_type": "code",
   "execution_count": 15,
   "metadata": {},
   "outputs": [
    {
     "name": "stdout",
     "output_type": "stream",
     "text": [
      "best rate: 0.368, acc: 0.986\n"
     ]
    }
   ],
   "source": [
    "run = lambda rate: test([\n",
    "        Reshape((28, 28, 1), input_shape=(28 * 28,)),\n",
    "        Conv2D(32, (5, 5), strides=2, activation='relu'),\n",
    "        MaxPooling2D((2, 2), strides=1),\n",
    "        Dropout(rate),\n",
    "        Flatten(),\n",
    "        Dense(1024, activation='tanh'),\n",
    "        Dense(10,   activation='softmax'),\n",
    "    ], test=False, print=False)\n",
    "\n",
    "rates = np.linspace(0, 1, 20)\n",
    "accus = np.array([run(rate) for rate in rates])\n",
    "\n",
    "rate, acc = rates[accus.argmax()], accus.max()\n",
    "print(f'best rate: {rate:.3f}, acc: {acc:.3f}')"
   ]
  },
  {
   "cell_type": "markdown",
   "metadata": {},
   "source": [
    "### task 6\n",
    "\n",
    "Добавьте еще один слой свертки и еще один слой maxpool (параметры задайте самостоятельно)."
   ]
  },
  {
   "cell_type": "code",
   "execution_count": 35,
   "metadata": {},
   "outputs": [
    {
     "data": {
      "text/markdown": [
       "**test**: loss 0.047, accuracy 0.988"
      ],
      "text/plain": [
       "<IPython.core.display.Markdown object>"
      ]
     },
     "metadata": {},
     "output_type": "display_data"
    },
    {
     "data": {
      "text/plain": [
       "0.988"
      ]
     },
     "execution_count": 35,
     "metadata": {},
     "output_type": "execute_result"
    }
   ],
   "source": [
    "test([\n",
    "    Reshape((28, 28, 1), input_shape=(28 * 28,)),\n",
    "    Conv2D(32, (5, 5), strides=2, activation='relu'),\n",
    "    MaxPooling2D((2, 2), strides=1),\n",
    "    Dropout(0.368),\n",
    "    Conv2D(64, (5, 5), strides=2, activation='relu'),\n",
    "    MaxPooling2D((2, 2), strides=2),\n",
    "    Dropout(0.368),\n",
    "    Flatten(),\n",
    "    Dense(1024, activation='tanh'),\n",
    "    Dense(10,   activation='softmax'),\n",
    "])"
   ]
  },
  {
   "cell_type": "markdown",
   "metadata": {},
   "source": [
    "### task 7\n",
    "\n",
    "Подготовьте датасет notMNIST (выделите train/validate/test) и примените сетки из основного задания."
   ]
  },
  {
   "cell_type": "code",
   "execution_count": 5,
   "metadata": {},
   "outputs": [],
   "source": [
    "df = pd.read_csv('not_mnist.csv', dtype=np.float32)\n",
    "\n",
    "train = df.sample(frac=0.8)\n",
    "other = df.drop(train.index)\n",
    "val   = other.sample(frac=0.5)\n",
    "test  = other.drop(val.index)\n",
    "\n",
    "split = lambda df: (\n",
    "    df.drop('label', axis=1).as_matrix() / 255,            # 255 — map colors to [0..1]\n",
    "    keras.utils.to_categorical(df.label.as_matrix(), 10))  # 10 — number of classes\n",
    "\n",
    "trainX, trainY = split(train)\n",
    "valX, valY     = split(val)\n",
    "testX, testY   = split(test)"
   ]
  },
  {
   "cell_type": "markdown",
   "metadata": {},
   "source": [
    "##### 1 sotmax"
   ]
  },
  {
   "cell_type": "code",
   "execution_count": 17,
   "metadata": {},
   "outputs": [
    {
     "name": "stdout",
     "output_type": "stream",
     "text": [
      "Train on 14979 samples, validate on 1872 samples\n",
      "Epoch 1/10\n",
      "14979/14979 [==============================] - 1s 73us/step - loss: 0.7820 - acc: 0.8005 - val_loss: 0.5011 - val_acc: 0.8670\n",
      "Epoch 2/10\n",
      "14979/14979 [==============================] - 1s 60us/step - loss: 0.4461 - acc: 0.8811 - val_loss: 9.3912 - val_acc: 0.1239\n",
      "Epoch 3/10\n",
      "14979/14979 [==============================] - 1s 52us/step - loss: 0.5575 - acc: 0.8767 - val_loss: 0.6040 - val_acc: 0.8392\n",
      "Epoch 4/10\n",
      "14979/14979 [==============================] - 1s 52us/step - loss: 0.4082 - acc: 0.8911 - val_loss: 0.4662 - val_acc: 0.8846\n",
      "Epoch 5/10\n",
      "14979/14979 [==============================] - 1s 60us/step - loss: 0.3932 - acc: 0.8963 - val_loss: 0.4781 - val_acc: 0.8552\n",
      "Epoch 6/10\n",
      "14979/14979 [==============================] - 1s 41us/step - loss: 0.3867 - acc: 0.8972 - val_loss: 0.4175 - val_acc: 0.8916\n",
      "Epoch 7/10\n",
      "14979/14979 [==============================] - 1s 41us/step - loss: 0.3778 - acc: 0.8993 - val_loss: 0.5636 - val_acc: 0.8424\n",
      "Epoch 8/10\n",
      "14979/14979 [==============================] - 1s 55us/step - loss: 0.3764 - acc: 0.8998 - val_loss: 0.4089 - val_acc: 0.8857\n",
      "Epoch 9/10\n",
      "14979/14979 [==============================] - 1s 43us/step - loss: 0.3652 - acc: 0.9042 - val_loss: 0.4168 - val_acc: 0.8894\n",
      "Epoch 10/10\n",
      "14979/14979 [==============================] - 1s 55us/step - loss: 0.3647 - acc: 0.9033 - val_loss: 0.4227 - val_acc: 0.8900\n"
     ]
    },
    {
     "data": {
      "text/markdown": [
       "**test**: loss 0.419, accuracy 0.893"
      ],
      "text/plain": [
       "<IPython.core.display.Markdown object>"
      ]
     },
     "metadata": {},
     "output_type": "display_data"
    }
   ],
   "source": [
    "test([\n",
    "    Dense(10, activation='softmax', input_shape=(28 * 28,)),\n",
    "]) and None"
   ]
  },
  {
   "cell_type": "markdown",
   "metadata": {},
   "source": [
    "###### 2 tanh, 1024"
   ]
  },
  {
   "cell_type": "code",
   "execution_count": 18,
   "metadata": {},
   "outputs": [
    {
     "name": "stdout",
     "output_type": "stream",
     "text": [
      "Train on 14979 samples, validate on 1872 samples\n",
      "Epoch 1/10\n",
      "14979/14979 [==============================] - 1s 82us/step - loss: 0.9664 - acc: 0.8009 - val_loss: 0.4329 - val_acc: 0.8819\n",
      "Epoch 2/10\n",
      "14979/14979 [==============================] - 1s 55us/step - loss: 0.4058 - acc: 0.8904 - val_loss: 0.4181 - val_acc: 0.8884\n",
      "Epoch 3/10\n",
      "14979/14979 [==============================] - 1s 54us/step - loss: 0.3788 - acc: 0.8978 - val_loss: 0.4081 - val_acc: 0.8937\n",
      "Epoch 4/10\n",
      "14979/14979 [==============================] - 1s 57us/step - loss: 0.3614 - acc: 0.9009 - val_loss: 2.1407 - val_acc: 0.5855\n",
      "Epoch 5/10\n",
      "14979/14979 [==============================] - 1s 53us/step - loss: 0.4033 - acc: 0.8963 - val_loss: 0.4134 - val_acc: 0.8921\n",
      "Epoch 6/10\n",
      "14979/14979 [==============================] - 1s 54us/step - loss: 0.3409 - acc: 0.9054 - val_loss: 0.5840 - val_acc: 0.8349\n",
      "Epoch 7/10\n",
      "14979/14979 [==============================] - 1s 54us/step - loss: 0.3121 - acc: 0.9131 - val_loss: 0.5124 - val_acc: 0.8659\n",
      "Epoch 8/10\n",
      "14979/14979 [==============================] - 1s 67us/step - loss: 0.2959 - acc: 0.9176 - val_loss: 0.4773 - val_acc: 0.8771\n",
      "Epoch 9/10\n",
      "14979/14979 [==============================] - 1s 67us/step - loss: 0.2874 - acc: 0.9188 - val_loss: 1.4995 - val_acc: 0.7003\n",
      "Epoch 10/10\n",
      "14979/14979 [==============================] - 1s 69us/step - loss: 0.3071 - acc: 0.9183 - val_loss: 5.9326 - val_acc: 0.2628\n"
     ]
    },
    {
     "data": {
      "text/markdown": [
       "**test**: loss 6.034, accuracy 0.261"
      ],
      "text/plain": [
       "<IPython.core.display.Markdown object>"
      ]
     },
     "metadata": {},
     "output_type": "display_data"
    }
   ],
   "source": [
    "test([\n",
    "    Dense(1024, activation='tanh', input_shape=(28 * 28,)),\n",
    "    Dense(10,   activation='softmax'),\n",
    "]) and None"
   ]
  },
  {
   "cell_type": "markdown",
   "metadata": {},
   "source": [
    "###### 3 RELU"
   ]
  },
  {
   "cell_type": "code",
   "execution_count": 19,
   "metadata": {
    "scrolled": false
   },
   "outputs": [
    {
     "name": "stdout",
     "output_type": "stream",
     "text": [
      "Train on 14979 samples, validate on 1872 samples\n",
      "Epoch 1/10\n",
      "14979/14979 [==============================] - 3s 224us/step - loss: 0.7929 - acc: 0.7705 - val_loss: 0.4362 - val_acc: 0.8777\n",
      "Epoch 2/10\n",
      "14979/14979 [==============================] - 3s 172us/step - loss: 0.3323 - acc: 0.9063 - val_loss: 2.6328 - val_acc: 0.5422\n",
      "Epoch 3/10\n",
      "14979/14979 [==============================] - 3s 195us/step - loss: 0.5065 - acc: 0.8740 - val_loss: 0.4066 - val_acc: 0.8889\n",
      "Epoch 4/10\n",
      "14979/14979 [==============================] - 3s 171us/step - loss: 0.2745 - acc: 0.9204 - val_loss: 0.3401 - val_acc: 0.9113\n",
      "Epoch 5/10\n",
      "14979/14979 [==============================] - 2s 164us/step - loss: 0.2355 - acc: 0.9334 - val_loss: 0.3233 - val_acc: 0.9119\n",
      "Epoch 6/10\n",
      "14979/14979 [==============================] - 2s 166us/step - loss: 0.2114 - acc: 0.9388 - val_loss: 0.3156 - val_acc: 0.9204\n",
      "Epoch 7/10\n",
      "14979/14979 [==============================] - 2s 164us/step - loss: 0.1995 - acc: 0.9425 - val_loss: 0.4563 - val_acc: 0.8803\n",
      "Epoch 8/10\n",
      "14979/14979 [==============================] - 3s 169us/step - loss: 0.1771 - acc: 0.9495 - val_loss: 0.3178 - val_acc: 0.9172\n",
      "Epoch 9/10\n",
      "14979/14979 [==============================] - 2s 166us/step - loss: 0.1574 - acc: 0.9539 - val_loss: 0.3352 - val_acc: 0.9209\n",
      "Epoch 10/10\n",
      "14979/14979 [==============================] - 3s 182us/step - loss: 0.1408 - acc: 0.9579 - val_loss: 0.3794 - val_acc: 0.9172\n"
     ]
    },
    {
     "data": {
      "text/markdown": [
       "**test**: loss 0.343, accuracy 0.919"
      ],
      "text/plain": [
       "<IPython.core.display.Markdown object>"
      ]
     },
     "metadata": {},
     "output_type": "display_data"
    }
   ],
   "source": [
    "test([\n",
    "    Reshape((28, 28, 1), input_shape=(28 * 28,)),\n",
    "    Conv2D(32, (5, 5), strides=2, activation='relu'),\n",
    "    Flatten(),\n",
    "    Dense(1024, activation='tanh'),\n",
    "    Dense(10,   activation='softmax'),\n",
    "]) and None"
   ]
  },
  {
   "cell_type": "markdown",
   "metadata": {},
   "source": [
    "###### 4 maxpool"
   ]
  },
  {
   "cell_type": "code",
   "execution_count": 20,
   "metadata": {},
   "outputs": [
    {
     "name": "stdout",
     "output_type": "stream",
     "text": [
      "Train on 14979 samples, validate on 1872 samples\n",
      "Epoch 1/10\n",
      "14979/14979 [==============================] - 3s 207us/step - loss: 0.8731 - acc: 0.7547 - val_loss: 2.4390 - val_acc: 0.4808\n",
      "Epoch 2/10\n",
      "14979/14979 [==============================] - 2s 161us/step - loss: 0.7954 - acc: 0.8408 - val_loss: 0.5223 - val_acc: 0.8499\n",
      "Epoch 3/10\n",
      "14979/14979 [==============================] - 2s 163us/step - loss: 0.3430 - acc: 0.9043 - val_loss: 0.4250 - val_acc: 0.8835\n",
      "Epoch 4/10\n",
      "14979/14979 [==============================] - 2s 155us/step - loss: 0.2851 - acc: 0.9209 - val_loss: 0.3656 - val_acc: 0.9097\n",
      "Epoch 5/10\n",
      "14979/14979 [==============================] - 2s 157us/step - loss: 0.2535 - acc: 0.9285 - val_loss: 1.6183 - val_acc: 0.6715\n",
      "Epoch 6/10\n",
      "14979/14979 [==============================] - 2s 155us/step - loss: 0.2622 - acc: 0.9260 - val_loss: 0.3183 - val_acc: 0.9119\n",
      "Epoch 7/10\n",
      "14979/14979 [==============================] - 2s 158us/step - loss: 0.2121 - acc: 0.9394 - val_loss: 0.3042 - val_acc: 0.9209\n",
      "Epoch 8/10\n",
      "14979/14979 [==============================] - 2s 157us/step - loss: 0.1986 - acc: 0.9427 - val_loss: 0.4267 - val_acc: 0.8916\n",
      "Epoch 9/10\n",
      "14979/14979 [==============================] - 2s 160us/step - loss: 0.1863 - acc: 0.9449 - val_loss: 6.6332 - val_acc: 0.2559\n",
      "Epoch 10/10\n",
      "14979/14979 [==============================] - 2s 158us/step - loss: 0.4015 - acc: 0.9015 - val_loss: 0.3399 - val_acc: 0.9124\n"
     ]
    },
    {
     "data": {
      "text/markdown": [
       "**test**: loss 0.330, accuracy 0.907"
      ],
      "text/plain": [
       "<IPython.core.display.Markdown object>"
      ]
     },
     "metadata": {},
     "output_type": "display_data"
    }
   ],
   "source": [
    "test([\n",
    "    Reshape((28, 28, 1), input_shape=(28 * 28,)),\n",
    "    Conv2D(32, (5, 5), strides=2, activation='relu'),\n",
    "    MaxPooling2D((2, 2), strides=1),\n",
    "    Flatten(),\n",
    "    Dense(1024, activation='tanh'),\n",
    "    Dense(10,   activation='softmax'),\n",
    "]) and None"
   ]
  },
  {
   "cell_type": "markdown",
   "metadata": {},
   "source": [
    "###### 5 dropout"
   ]
  },
  {
   "cell_type": "code",
   "execution_count": 21,
   "metadata": {},
   "outputs": [
    {
     "name": "stdout",
     "output_type": "stream",
     "text": [
      "Train on 14979 samples, validate on 1872 samples\n",
      "Epoch 1/10\n",
      "14979/14979 [==============================] - 3s 173us/step - loss: 0.8170 - acc: 0.7660 - val_loss: 9.5112 - val_acc: 0.1357\n",
      "Epoch 2/10\n",
      "14979/14979 [==============================] - 2s 152us/step - loss: 0.5589 - acc: 0.8637 - val_loss: 4.0134 - val_acc: 0.4252\n",
      "Epoch 3/10\n",
      "14979/14979 [==============================] - 2s 152us/step - loss: 0.4032 - acc: 0.8927 - val_loss: 0.4264 - val_acc: 0.8894\n",
      "Epoch 4/10\n",
      "14979/14979 [==============================] - 2s 150us/step - loss: 0.2910 - acc: 0.9192 - val_loss: 9.0682 - val_acc: 0.1870\n",
      "Epoch 5/10\n",
      "14979/14979 [==============================] - 2s 151us/step - loss: 0.4481 - acc: 0.8922 - val_loss: 0.3650 - val_acc: 0.9065\n",
      "Epoch 6/10\n",
      "14979/14979 [==============================] - 2s 161us/step - loss: 0.2841 - acc: 0.9210 - val_loss: 1.5726 - val_acc: 0.7527\n",
      "Epoch 7/10\n",
      "14979/14979 [==============================] - 2s 165us/step - loss: 0.2756 - acc: 0.9256 - val_loss: 0.3356 - val_acc: 0.9177\n",
      "Epoch 8/10\n",
      "14979/14979 [==============================] - 2s 157us/step - loss: 0.2287 - acc: 0.9358 - val_loss: 0.3511 - val_acc: 0.9167\n",
      "Epoch 9/10\n",
      "14979/14979 [==============================] - 3s 168us/step - loss: 0.2116 - acc: 0.9392 - val_loss: 0.3228 - val_acc: 0.9161\n",
      "Epoch 10/10\n",
      "14979/14979 [==============================] - 3s 168us/step - loss: 0.1942 - acc: 0.9433 - val_loss: 0.3513 - val_acc: 0.9033\n",
      "Train on 14979 samples, validate on 1872 samples\n",
      "Epoch 1/10\n",
      "14979/14979 [==============================] - 3s 202us/step - loss: 0.7822 - acc: 0.7724 - val_loss: 10.3871 - val_acc: 0.1939\n",
      "Epoch 2/10\n",
      "14979/14979 [==============================] - 3s 183us/step - loss: 0.5823 - acc: 0.8589 - val_loss: 0.5012 - val_acc: 0.8558\n",
      "Epoch 3/10\n",
      "14979/14979 [==============================] - 3s 217us/step - loss: 0.3487 - acc: 0.9013 - val_loss: 7.6626 - val_acc: 0.1806\n",
      "Epoch 4/10\n",
      "14979/14979 [==============================] - 3s 193us/step - loss: 0.4803 - acc: 0.8748 - val_loss: 0.3479 - val_acc: 0.9017\n",
      "Epoch 5/10\n",
      "14979/14979 [==============================] - 3s 199us/step - loss: 0.2881 - acc: 0.9197 - val_loss: 3.3143 - val_acc: 0.5016\n",
      "Epoch 6/10\n",
      "14979/14979 [==============================] - 3s 175us/step - loss: 0.3229 - acc: 0.9129 - val_loss: 0.3262 - val_acc: 0.9076\n",
      "Epoch 7/10\n",
      "14979/14979 [==============================] - 3s 182us/step - loss: 0.2454 - acc: 0.9288 - val_loss: 0.8360 - val_acc: 0.8109\n",
      "Epoch 8/10\n",
      "14979/14979 [==============================] - 3s 204us/step - loss: 0.2371 - acc: 0.9323 - val_loss: 13.2621 - val_acc: 0.0962\n",
      "Epoch 9/10\n",
      "14979/14979 [==============================] - 3s 201us/step - loss: 0.4876 - acc: 0.8969 - val_loss: 0.4107 - val_acc: 0.8900\n",
      "Epoch 10/10\n",
      "14979/14979 [==============================] - 2s 165us/step - loss: 0.2396 - acc: 0.9329 - val_loss: 13.2733 - val_acc: 0.1207\n",
      "Train on 14979 samples, validate on 1872 samples\n",
      "Epoch 1/10\n",
      "14979/14979 [==============================] - 3s 195us/step - loss: 0.8023 - acc: 0.7657 - val_loss: 5.5815 - val_acc: 0.3109\n",
      "Epoch 2/10\n",
      "14979/14979 [==============================] - 3s 168us/step - loss: 0.5995 - acc: 0.8475 - val_loss: 10.1488 - val_acc: 0.1432\n",
      "Epoch 3/10\n",
      "14979/14979 [==============================] - 3s 170us/step - loss: 0.6242 - acc: 0.8493 - val_loss: 1.7229 - val_acc: 0.6191\n",
      "Epoch 4/10\n",
      "14979/14979 [==============================] - 3s 170us/step - loss: 0.4279 - acc: 0.8819 - val_loss: 0.3767 - val_acc: 0.8958\n",
      "Epoch 5/10\n",
      "14979/14979 [==============================] - 3s 169us/step - loss: 0.3485 - acc: 0.9010 - val_loss: 0.3816 - val_acc: 0.9012\n",
      "Epoch 6/10\n",
      "14979/14979 [==============================] - 3s 170us/step - loss: 0.3126 - acc: 0.9107 - val_loss: 0.4803 - val_acc: 0.8600\n",
      "Epoch 7/10\n",
      "14979/14979 [==============================] - 3s 169us/step - loss: 0.2862 - acc: 0.9196 - val_loss: 6.4142 - val_acc: 0.2698\n",
      "Epoch 8/10\n",
      "14979/14979 [==============================] - 3s 169us/step - loss: 0.4422 - acc: 0.8857 - val_loss: 2.4178 - val_acc: 0.5598\n",
      "Epoch 9/10\n",
      "14979/14979 [==============================] - 3s 171us/step - loss: 0.3280 - acc: 0.9105 - val_loss: 0.3494 - val_acc: 0.9108\n",
      "Epoch 10/10\n",
      "14979/14979 [==============================] - 3s 168us/step - loss: 0.2613 - acc: 0.9270 - val_loss: 0.3194 - val_acc: 0.9119\n",
      "Train on 14979 samples, validate on 1872 samples\n",
      "Epoch 1/10\n",
      "14979/14979 [==============================] - 3s 197us/step - loss: 0.7515 - acc: 0.7798 - val_loss: 3.7550 - val_acc: 0.2511\n",
      "Epoch 2/10\n",
      "14979/14979 [==============================] - 2s 166us/step - loss: 0.5351 - acc: 0.8518 - val_loss: 0.4007 - val_acc: 0.8819\n",
      "Epoch 3/10\n",
      "14979/14979 [==============================] - 3s 169us/step - loss: 0.3346 - acc: 0.9071 - val_loss: 0.4756 - val_acc: 0.8718\n",
      "Epoch 4/10\n",
      "14979/14979 [==============================] - 2s 167us/step - loss: 0.2923 - acc: 0.9172 - val_loss: 0.3779 - val_acc: 0.8964\n",
      "Epoch 5/10\n",
      "14979/14979 [==============================] - 3s 170us/step - loss: 0.2601 - acc: 0.9274 - val_loss: 0.3389 - val_acc: 0.9097\n",
      "Epoch 6/10\n",
      "14979/14979 [==============================] - 3s 174us/step - loss: 0.2455 - acc: 0.9294 - val_loss: 0.3132 - val_acc: 0.9140\n",
      "Epoch 7/10\n",
      "14979/14979 [==============================] - 3s 169us/step - loss: 0.2254 - acc: 0.9346 - val_loss: 0.2899 - val_acc: 0.9241\n",
      "Epoch 8/10\n",
      "14979/14979 [==============================] - 3s 168us/step - loss: 0.2109 - acc: 0.9382 - val_loss: 0.3104 - val_acc: 0.9183\n",
      "Epoch 9/10\n",
      "14979/14979 [==============================] - 2s 166us/step - loss: 0.2008 - acc: 0.9424 - val_loss: 7.1955 - val_acc: 0.2970\n",
      "Epoch 10/10\n",
      "14979/14979 [==============================] - 3s 187us/step - loss: 0.3823 - acc: 0.9034 - val_loss: 0.3982 - val_acc: 0.8916\n",
      "Train on 14979 samples, validate on 1872 samples\n",
      "Epoch 1/10\n",
      "14979/14979 [==============================] - 3s 217us/step - loss: 0.8142 - acc: 0.7595 - val_loss: 1.5193 - val_acc: 0.6522\n",
      "Epoch 2/10\n",
      "14979/14979 [==============================] - 3s 182us/step - loss: 0.4218 - acc: 0.8860 - val_loss: 10.1285 - val_acc: 0.1191\n",
      "Epoch 3/10\n",
      "14979/14979 [==============================] - 3s 192us/step - loss: 0.7284 - acc: 0.8371 - val_loss: 0.3861 - val_acc: 0.8905\n",
      "Epoch 4/10\n",
      "14979/14979 [==============================] - 3s 196us/step - loss: 0.3421 - acc: 0.9059 - val_loss: 0.3545 - val_acc: 0.8990\n",
      "Epoch 5/10\n",
      "14979/14979 [==============================] - 3s 198us/step - loss: 0.3052 - acc: 0.9152 - val_loss: 0.3405 - val_acc: 0.9081\n",
      "Epoch 6/10\n",
      "14979/14979 [==============================] - 3s 200us/step - loss: 0.2894 - acc: 0.9170 - val_loss: 0.3225 - val_acc: 0.9172\n",
      "Epoch 7/10\n",
      "14979/14979 [==============================] - 3s 195us/step - loss: 0.2704 - acc: 0.9234 - val_loss: 0.3126 - val_acc: 0.9183\n",
      "Epoch 8/10\n",
      "14979/14979 [==============================] - 3s 181us/step - loss: 0.2541 - acc: 0.9286 - val_loss: 2.4529 - val_acc: 0.6757\n",
      "Epoch 9/10\n",
      "14979/14979 [==============================] - 3s 184us/step - loss: 0.2980 - acc: 0.9169 - val_loss: 0.3251 - val_acc: 0.9177\n",
      "Epoch 10/10\n",
      "14979/14979 [==============================] - 3s 194us/step - loss: 0.2374 - acc: 0.9334 - val_loss: 0.3024 - val_acc: 0.9236\n",
      "Train on 14979 samples, validate on 1872 samples\n",
      "Epoch 1/10\n",
      "14979/14979 [==============================] - 3s 214us/step - loss: 0.7827 - acc: 0.7767 - val_loss: 1.0744 - val_acc: 0.7543\n",
      "Epoch 2/10\n",
      "14979/14979 [==============================] - 3s 178us/step - loss: 0.3701 - acc: 0.8951 - val_loss: 0.3638 - val_acc: 0.8985\n",
      "Epoch 3/10\n",
      "14979/14979 [==============================] - 3s 180us/step - loss: 0.3057 - acc: 0.9129 - val_loss: 0.3079 - val_acc: 0.9140\n",
      "Epoch 4/10\n",
      "14979/14979 [==============================] - 2s 167us/step - loss: 0.2777 - acc: 0.9210 - val_loss: 0.4916 - val_acc: 0.8552\n",
      "Epoch 5/10\n",
      "14979/14979 [==============================] - 3s 182us/step - loss: 0.2613 - acc: 0.9238 - val_loss: 0.3287 - val_acc: 0.9113\n",
      "Epoch 6/10\n",
      "14979/14979 [==============================] - 3s 192us/step - loss: 0.2411 - acc: 0.9296 - val_loss: 0.2985 - val_acc: 0.9209\n",
      "Epoch 7/10\n",
      "14979/14979 [==============================] - 3s 187us/step - loss: 0.2296 - acc: 0.9338 - val_loss: 0.7670 - val_acc: 0.7991\n",
      "Epoch 8/10\n"
     ]
    },
    {
     "name": "stdout",
     "output_type": "stream",
     "text": [
      "14979/14979 [==============================] - 3s 192us/step - loss: 0.2440 - acc: 0.9315 - val_loss: 0.2949 - val_acc: 0.9311\n",
      "Epoch 9/10\n",
      "14979/14979 [==============================] - 3s 169us/step - loss: 0.2127 - acc: 0.9364 - val_loss: 0.5585 - val_acc: 0.8627\n",
      "Epoch 10/10\n",
      "14979/14979 [==============================] - 3s 169us/step - loss: 0.2089 - acc: 0.9374 - val_loss: 0.2790 - val_acc: 0.9284\n",
      "Train on 14979 samples, validate on 1872 samples\n",
      "Epoch 1/10\n",
      "14979/14979 [==============================] - 3s 209us/step - loss: 0.8262 - acc: 0.7555 - val_loss: 0.4658 - val_acc: 0.8723\n",
      "Epoch 2/10\n",
      "14979/14979 [==============================] - 2s 165us/step - loss: 0.3769 - acc: 0.8953 - val_loss: 0.4355 - val_acc: 0.8755\n",
      "Epoch 3/10\n",
      "14979/14979 [==============================] - 2s 163us/step - loss: 0.3333 - acc: 0.9068 - val_loss: 4.9475 - val_acc: 0.3002\n",
      "Epoch 4/10\n",
      "14979/14979 [==============================] - 2s 164us/step - loss: 0.4224 - acc: 0.8870 - val_loss: 1.1810 - val_acc: 0.7505\n",
      "Epoch 5/10\n",
      "14979/14979 [==============================] - 3s 174us/step - loss: 0.3222 - acc: 0.9100 - val_loss: 4.0312 - val_acc: 0.3905\n",
      "Epoch 6/10\n",
      "14979/14979 [==============================] - 2s 165us/step - loss: 0.4513 - acc: 0.8839 - val_loss: 0.5792 - val_acc: 0.8483\n",
      "Epoch 7/10\n",
      "14979/14979 [==============================] - 3s 167us/step - loss: 0.2979 - acc: 0.9169 - val_loss: 0.3016 - val_acc: 0.9236\n",
      "Epoch 8/10\n",
      "14979/14979 [==============================] - 3s 175us/step - loss: 0.2603 - acc: 0.9274 - val_loss: 1.6554 - val_acc: 0.7228\n",
      "Epoch 9/10\n",
      "14979/14979 [==============================] - 3s 170us/step - loss: 0.2723 - acc: 0.9226 - val_loss: 0.5056 - val_acc: 0.8611\n",
      "Epoch 10/10\n",
      "14979/14979 [==============================] - 3s 186us/step - loss: 0.2416 - acc: 0.9292 - val_loss: 0.2991 - val_acc: 0.9231\n",
      "Train on 14979 samples, validate on 1872 samples\n",
      "Epoch 1/10\n",
      "14979/14979 [==============================] - 3s 196us/step - loss: 0.7754 - acc: 0.7696 - val_loss: 0.4113 - val_acc: 0.8830\n",
      "Epoch 2/10\n",
      "14979/14979 [==============================] - 3s 173us/step - loss: 0.3608 - acc: 0.8968 - val_loss: 1.2567 - val_acc: 0.6774\n",
      "Epoch 3/10\n",
      "14979/14979 [==============================] - 3s 170us/step - loss: 0.3544 - acc: 0.9036 - val_loss: 7.7659 - val_acc: 0.1859\n",
      "Epoch 4/10\n",
      "14979/14979 [==============================] - 3s 169us/step - loss: 0.4927 - acc: 0.8735 - val_loss: 0.3789 - val_acc: 0.9012\n",
      "Epoch 5/10\n",
      "14979/14979 [==============================] - 3s 167us/step - loss: 0.3131 - acc: 0.9127 - val_loss: 4.0062 - val_acc: 0.3611\n",
      "Epoch 6/10\n",
      "14979/14979 [==============================] - 2s 166us/step - loss: 0.4203 - acc: 0.8923 - val_loss: 0.3601 - val_acc: 0.9044\n",
      "Epoch 7/10\n",
      "14979/14979 [==============================] - 3s 167us/step - loss: 0.2953 - acc: 0.9156 - val_loss: 0.3059 - val_acc: 0.9145\n",
      "Epoch 8/10\n",
      "14979/14979 [==============================] - 3s 168us/step - loss: 0.2687 - acc: 0.9224 - val_loss: 3.5200 - val_acc: 0.5214\n",
      "Epoch 9/10\n",
      "14979/14979 [==============================] - 3s 169us/step - loss: 0.3381 - acc: 0.9075 - val_loss: 0.3026 - val_acc: 0.9193\n",
      "Epoch 10/10\n",
      "14979/14979 [==============================] - 3s 167us/step - loss: 0.2529 - acc: 0.9264 - val_loss: 2.2417 - val_acc: 0.5924\n",
      "Train on 14979 samples, validate on 1872 samples\n",
      "Epoch 1/10\n",
      "14979/14979 [==============================] - 3s 191us/step - loss: 0.7653 - acc: 0.7744 - val_loss: 0.4348 - val_acc: 0.8734\n",
      "Epoch 2/10\n",
      "14979/14979 [==============================] - 3s 168us/step - loss: 0.3764 - acc: 0.8928 - val_loss: 0.4557 - val_acc: 0.8787\n",
      "Epoch 3/10\n",
      "14979/14979 [==============================] - 2s 166us/step - loss: 0.3275 - acc: 0.9066 - val_loss: 1.8767 - val_acc: 0.5839\n",
      "Epoch 4/10\n",
      "14979/14979 [==============================] - 3s 168us/step - loss: 0.4107 - acc: 0.8933 - val_loss: 0.6487 - val_acc: 0.8296\n",
      "Epoch 5/10\n",
      "14979/14979 [==============================] - 3s 168us/step - loss: 0.3050 - acc: 0.9149 - val_loss: 1.7084 - val_acc: 0.6207\n",
      "Epoch 6/10\n",
      "14979/14979 [==============================] - 3s 179us/step - loss: 0.3199 - acc: 0.9106 - val_loss: 0.3335 - val_acc: 0.9188\n",
      "Epoch 7/10\n",
      "14979/14979 [==============================] - 3s 169us/step - loss: 0.2674 - acc: 0.9236 - val_loss: 0.3202 - val_acc: 0.9156\n",
      "Epoch 8/10\n",
      "14979/14979 [==============================] - 3s 172us/step - loss: 0.2534 - acc: 0.9256 - val_loss: 2.1940 - val_acc: 0.6902\n",
      "Epoch 9/10\n",
      "14979/14979 [==============================] - 3s 168us/step - loss: 0.2836 - acc: 0.9191 - val_loss: 0.4852 - val_acc: 0.8777\n",
      "Epoch 10/10\n",
      "14979/14979 [==============================] - 3s 168us/step - loss: 0.2412 - acc: 0.9280 - val_loss: 0.2898 - val_acc: 0.9268\n",
      "Train on 14979 samples, validate on 1872 samples\n",
      "Epoch 1/10\n",
      "14979/14979 [==============================] - 3s 201us/step - loss: 0.7689 - acc: 0.7708 - val_loss: 11.4193 - val_acc: 0.0924\n",
      "Epoch 2/10\n",
      "14979/14979 [==============================] - 3s 175us/step - loss: 0.5766 - acc: 0.8543 - val_loss: 8.5573 - val_acc: 0.1261\n",
      "Epoch 3/10\n",
      "14979/14979 [==============================] - 3s 185us/step - loss: 0.5880 - acc: 0.8462 - val_loss: 9.0737 - val_acc: 0.1378\n",
      "Epoch 4/10\n",
      "14979/14979 [==============================] - 3s 174us/step - loss: 0.5798 - acc: 0.8529 - val_loss: 0.3774 - val_acc: 0.8980\n",
      "Epoch 5/10\n",
      "14979/14979 [==============================] - 3s 190us/step - loss: 0.4087 - acc: 0.8843 - val_loss: 0.3581 - val_acc: 0.9081\n",
      "Epoch 6/10\n",
      "14979/14979 [==============================] - 3s 194us/step - loss: 0.3834 - acc: 0.8928 - val_loss: 0.3483 - val_acc: 0.9065\n",
      "Epoch 7/10\n",
      "14979/14979 [==============================] - 3s 185us/step - loss: 0.3665 - acc: 0.8967 - val_loss: 8.9619 - val_acc: 0.1672\n",
      "Epoch 8/10\n",
      "14979/14979 [==============================] - 3s 190us/step - loss: 0.7042 - acc: 0.8203 - val_loss: 9.7038 - val_acc: 0.1132\n",
      "Epoch 9/10\n",
      "14979/14979 [==============================] - 3s 180us/step - loss: 0.7004 - acc: 0.8181 - val_loss: 0.4374 - val_acc: 0.8761\n",
      "Epoch 10/10\n",
      "14979/14979 [==============================] - 3s 188us/step - loss: 0.5345 - acc: 0.8479 - val_loss: 1.3038 - val_acc: 0.7009\n",
      "Train on 14979 samples, validate on 1872 samples\n",
      "Epoch 1/10\n",
      "14979/14979 [==============================] - 3s 221us/step - loss: 0.8667 - acc: 0.7395 - val_loss: 0.4793 - val_acc: 0.8691\n",
      "Epoch 2/10\n",
      "14979/14979 [==============================] - 3s 193us/step - loss: 0.4181 - acc: 0.8826 - val_loss: 0.4051 - val_acc: 0.8862\n",
      "Epoch 3/10\n",
      "14979/14979 [==============================] - 3s 216us/step - loss: 0.3622 - acc: 0.8968 - val_loss: 0.3207 - val_acc: 0.9108\n",
      "Epoch 4/10\n",
      "14979/14979 [==============================] - 3s 185us/step - loss: 0.3353 - acc: 0.9042 - val_loss: 0.3519 - val_acc: 0.8990\n",
      "Epoch 5/10\n",
      "14979/14979 [==============================] - 3s 186us/step - loss: 0.3174 - acc: 0.9097 - val_loss: 0.3922 - val_acc: 0.8755\n",
      "Epoch 6/10\n",
      "14979/14979 [==============================] - 3s 184us/step - loss: 0.3014 - acc: 0.9137 - val_loss: 0.2924 - val_acc: 0.9215\n",
      "Epoch 7/10\n",
      "14979/14979 [==============================] - 3s 190us/step - loss: 0.2857 - acc: 0.9155 - val_loss: 0.2811 - val_acc: 0.9220\n",
      "Epoch 8/10\n",
      "14979/14979 [==============================] - 3s 190us/step - loss: 0.2805 - acc: 0.9195 - val_loss: 0.2850 - val_acc: 0.9274\n",
      "Epoch 9/10\n",
      "14979/14979 [==============================] - 3s 167us/step - loss: 0.2669 - acc: 0.9221 - val_loss: 1.3672 - val_acc: 0.7404\n",
      "Epoch 10/10\n",
      "14979/14979 [==============================] - 3s 168us/step - loss: 0.2825 - acc: 0.9197 - val_loss: 7.5919 - val_acc: 0.1448\n",
      "Train on 14979 samples, validate on 1872 samples\n",
      "Epoch 1/10\n",
      "14979/14979 [==============================] - 3s 193us/step - loss: 0.8000 - acc: 0.7628 - val_loss: 6.5897 - val_acc: 0.1341\n",
      "Epoch 2/10\n",
      "14979/14979 [==============================] - 3s 167us/step - loss: 0.6037 - acc: 0.8382 - val_loss: 0.5064 - val_acc: 0.8755\n",
      "Epoch 3/10\n",
      "14979/14979 [==============================] - 3s 167us/step - loss: 0.3942 - acc: 0.8888 - val_loss: 0.3334 - val_acc: 0.9103\n",
      "Epoch 4/10\n",
      "14979/14979 [==============================] - 2s 166us/step - loss: 0.3574 - acc: 0.8982 - val_loss: 3.9545 - val_acc: 0.4322\n",
      "Epoch 5/10\n"
     ]
    },
    {
     "name": "stdout",
     "output_type": "stream",
     "text": [
      "14979/14979 [==============================] - 3s 167us/step - loss: 0.4375 - acc: 0.8825 - val_loss: 0.3579 - val_acc: 0.9060\n",
      "Epoch 6/10\n",
      "14979/14979 [==============================] - 2s 164us/step - loss: 0.3418 - acc: 0.9010 - val_loss: 0.3131 - val_acc: 0.9193\n",
      "Epoch 7/10\n",
      "14979/14979 [==============================] - 2s 165us/step - loss: 0.3230 - acc: 0.9061 - val_loss: 3.1682 - val_acc: 0.5379\n",
      "Epoch 8/10\n",
      "14979/14979 [==============================] - 2s 164us/step - loss: 0.3922 - acc: 0.8937 - val_loss: 0.3283 - val_acc: 0.9092\n",
      "Epoch 9/10\n",
      "14979/14979 [==============================] - 3s 167us/step - loss: 0.3252 - acc: 0.9080 - val_loss: 7.2831 - val_acc: 0.1918\n",
      "Epoch 10/10\n",
      "14979/14979 [==============================] - 2s 165us/step - loss: 0.4524 - acc: 0.8817 - val_loss: 1.1277 - val_acc: 0.8007\n",
      "Train on 14979 samples, validate on 1872 samples\n",
      "Epoch 1/10\n",
      "14979/14979 [==============================] - 3s 189us/step - loss: 0.7637 - acc: 0.7683 - val_loss: 0.3978 - val_acc: 0.8851\n",
      "Epoch 2/10\n",
      "14979/14979 [==============================] - 2s 164us/step - loss: 0.4148 - acc: 0.8813 - val_loss: 9.0107 - val_acc: 0.2078\n",
      "Epoch 3/10\n",
      "14979/14979 [==============================] - 2s 165us/step - loss: 0.5217 - acc: 0.8649 - val_loss: 8.5679 - val_acc: 0.1651\n",
      "Epoch 4/10\n",
      "14979/14979 [==============================] - 3s 167us/step - loss: 0.5366 - acc: 0.8635 - val_loss: 3.2072 - val_acc: 0.4845\n",
      "Epoch 5/10\n",
      "14979/14979 [==============================] - 2s 164us/step - loss: 0.4906 - acc: 0.8657 - val_loss: 0.3285 - val_acc: 0.9151\n",
      "Epoch 6/10\n",
      "14979/14979 [==============================] - 2s 165us/step - loss: 0.3851 - acc: 0.8926 - val_loss: 1.0160 - val_acc: 0.7228\n",
      "Epoch 7/10\n",
      "14979/14979 [==============================] - 2s 166us/step - loss: 0.4073 - acc: 0.8850 - val_loss: 0.5141 - val_acc: 0.8686\n",
      "Epoch 8/10\n",
      "14979/14979 [==============================] - 3s 170us/step - loss: 0.3502 - acc: 0.9003 - val_loss: 0.3220 - val_acc: 0.9204\n",
      "Epoch 9/10\n",
      "14979/14979 [==============================] - 2s 165us/step - loss: 0.3342 - acc: 0.9063 - val_loss: 0.5230 - val_acc: 0.8659\n",
      "Epoch 10/10\n",
      "14979/14979 [==============================] - 2s 165us/step - loss: 0.3352 - acc: 0.9031 - val_loss: 0.4021 - val_acc: 0.9060\n",
      "Train on 14979 samples, validate on 1872 samples\n",
      "Epoch 1/10\n",
      "14979/14979 [==============================] - 3s 193us/step - loss: 0.8275 - acc: 0.7534 - val_loss: 0.5532 - val_acc: 0.8483\n",
      "Epoch 2/10\n",
      "14979/14979 [==============================] - 2s 164us/step - loss: 0.4411 - acc: 0.8762 - val_loss: 3.8128 - val_acc: 0.3819\n",
      "Epoch 3/10\n",
      "14979/14979 [==============================] - 2s 164us/step - loss: 0.5275 - acc: 0.8565 - val_loss: 0.3814 - val_acc: 0.9044\n",
      "Epoch 4/10\n",
      "14979/14979 [==============================] - 2s 164us/step - loss: 0.3908 - acc: 0.8875 - val_loss: 0.5842 - val_acc: 0.8232\n",
      "Epoch 5/10\n",
      "14979/14979 [==============================] - 2s 163us/step - loss: 0.3864 - acc: 0.8908 - val_loss: 0.3175 - val_acc: 0.9167\n",
      "Epoch 6/10\n",
      "14979/14979 [==============================] - 2s 163us/step - loss: 0.3728 - acc: 0.8943 - val_loss: 0.3260 - val_acc: 0.9183\n",
      "Epoch 7/10\n",
      "14979/14979 [==============================] - 2s 163us/step - loss: 0.3463 - acc: 0.9031 - val_loss: 2.7823 - val_acc: 0.5582\n",
      "Epoch 8/10\n",
      "14979/14979 [==============================] - 2s 165us/step - loss: 0.4333 - acc: 0.8808 - val_loss: 0.6534 - val_acc: 0.8462\n",
      "Epoch 9/10\n",
      "14979/14979 [==============================] - 2s 164us/step - loss: 0.3548 - acc: 0.8996 - val_loss: 2.6296 - val_acc: 0.5187\n",
      "Epoch 10/10\n",
      "14979/14979 [==============================] - 2s 164us/step - loss: 0.3836 - acc: 0.8914 - val_loss: 0.9937 - val_acc: 0.7692\n",
      "Train on 14979 samples, validate on 1872 samples\n",
      "Epoch 1/10\n",
      "14979/14979 [==============================] - 3s 189us/step - loss: 0.8416 - acc: 0.7437 - val_loss: 2.8324 - val_acc: 0.5043\n",
      "Epoch 2/10\n",
      "14979/14979 [==============================] - 2s 164us/step - loss: 0.5589 - acc: 0.8499 - val_loss: 1.3540 - val_acc: 0.6432\n",
      "Epoch 3/10\n",
      "14979/14979 [==============================] - 2s 166us/step - loss: 0.4590 - acc: 0.8722 - val_loss: 2.1669 - val_acc: 0.6213\n",
      "Epoch 4/10\n",
      "14979/14979 [==============================] - 2s 165us/step - loss: 0.4739 - acc: 0.8696 - val_loss: 5.5266 - val_acc: 0.3360\n",
      "Epoch 5/10\n",
      "14979/14979 [==============================] - 2s 165us/step - loss: 0.5521 - acc: 0.8611 - val_loss: 5.7150 - val_acc: 0.1549\n",
      "Epoch 6/10\n",
      "14979/14979 [==============================] - 3s 169us/step - loss: 0.5460 - acc: 0.8493 - val_loss: 6.4091 - val_acc: 0.2281\n",
      "Epoch 7/10\n",
      "14979/14979 [==============================] - 3s 170us/step - loss: 0.5531 - acc: 0.8466 - val_loss: 0.5049 - val_acc: 0.8563\n",
      "Epoch 8/10\n",
      "14979/14979 [==============================] - 3s 171us/step - loss: 0.4362 - acc: 0.8739 - val_loss: 0.3408 - val_acc: 0.9065\n",
      "Epoch 9/10\n",
      "14979/14979 [==============================] - 3s 171us/step - loss: 0.4040 - acc: 0.8846 - val_loss: 1.4411 - val_acc: 0.6790\n",
      "Epoch 10/10\n",
      "14979/14979 [==============================] - 3s 168us/step - loss: 0.4102 - acc: 0.8828 - val_loss: 0.3198 - val_acc: 0.9135\n",
      "Train on 14979 samples, validate on 1872 samples\n",
      "Epoch 1/10\n",
      "14979/14979 [==============================] - 3s 191us/step - loss: 0.8683 - acc: 0.7333 - val_loss: 0.6867 - val_acc: 0.8114\n",
      "Epoch 2/10\n",
      "14979/14979 [==============================] - 2s 165us/step - loss: 0.4985 - acc: 0.8563 - val_loss: 0.6058 - val_acc: 0.8520\n",
      "Epoch 3/10\n",
      "14979/14979 [==============================] - 2s 166us/step - loss: 0.4460 - acc: 0.8738 - val_loss: 0.3755 - val_acc: 0.8985\n",
      "Epoch 4/10\n",
      "14979/14979 [==============================] - 2s 166us/step - loss: 0.4126 - acc: 0.8822 - val_loss: 1.6781 - val_acc: 0.5988\n",
      "Epoch 5/10\n",
      "14979/14979 [==============================] - 3s 167us/step - loss: 0.4676 - acc: 0.8703 - val_loss: 0.4646 - val_acc: 0.8825\n",
      "Epoch 6/10\n",
      "14979/14979 [==============================] - 3s 168us/step - loss: 0.4110 - acc: 0.8860 - val_loss: 0.3501 - val_acc: 0.9076\n",
      "Epoch 7/10\n",
      "14979/14979 [==============================] - 3s 168us/step - loss: 0.3956 - acc: 0.8895 - val_loss: 3.0761 - val_acc: 0.2863\n",
      "Epoch 8/10\n",
      "14979/14979 [==============================] - 3s 167us/step - loss: 0.4790 - acc: 0.8714 - val_loss: 0.3280 - val_acc: 0.9092\n",
      "Epoch 9/10\n",
      "14979/14979 [==============================] - 3s 170us/step - loss: 0.3980 - acc: 0.8876 - val_loss: 0.3473 - val_acc: 0.9081\n",
      "Epoch 10/10\n",
      "14979/14979 [==============================] - 2s 165us/step - loss: 0.3911 - acc: 0.8872 - val_loss: 0.3956 - val_acc: 0.9081\n",
      "Train on 14979 samples, validate on 1872 samples\n",
      "Epoch 1/10\n",
      "14979/14979 [==============================] - 3s 201us/step - loss: 0.9570 - acc: 0.6984 - val_loss: 0.4720 - val_acc: 0.8745\n",
      "Epoch 2/10\n",
      "14979/14979 [==============================] - 3s 173us/step - loss: 0.5448 - acc: 0.8438 - val_loss: 0.3938 - val_acc: 0.8921\n",
      "Epoch 3/10\n",
      "14979/14979 [==============================] - 3s 170us/step - loss: 0.4809 - acc: 0.8633 - val_loss: 0.5880 - val_acc: 0.8499\n",
      "Epoch 4/10\n",
      "14979/14979 [==============================] - 3s 168us/step - loss: 0.4643 - acc: 0.8675 - val_loss: 1.0933 - val_acc: 0.8024\n",
      "Epoch 5/10\n",
      "14979/14979 [==============================] - 3s 168us/step - loss: 0.4624 - acc: 0.8649 - val_loss: 0.3554 - val_acc: 0.9012\n",
      "Epoch 6/10\n",
      "14979/14979 [==============================] - 3s 169us/step - loss: 0.4225 - acc: 0.8786 - val_loss: 0.4576 - val_acc: 0.8697\n",
      "Epoch 7/10\n",
      "14979/14979 [==============================] - 3s 169us/step - loss: 0.4234 - acc: 0.8811 - val_loss: 0.3308 - val_acc: 0.9135\n",
      "Epoch 8/10\n",
      "14979/14979 [==============================] - 3s 179us/step - loss: 0.3975 - acc: 0.8855 - val_loss: 0.3980 - val_acc: 0.9001\n",
      "Epoch 9/10\n",
      "14979/14979 [==============================] - 3s 211us/step - loss: 0.3970 - acc: 0.8850 - val_loss: 0.8698 - val_acc: 0.7687\n",
      "Epoch 10/10\n",
      "14979/14979 [==============================] - 3s 177us/step - loss: 0.4071 - acc: 0.8853 - val_loss: 0.3403 - val_acc: 0.9108\n",
      "Train on 14979 samples, validate on 1872 samples\n",
      "Epoch 1/10\n",
      "14979/14979 [==============================] - 3s 206us/step - loss: 1.0745 - acc: 0.6549 - val_loss: 5.1393 - val_acc: 0.2313\n",
      "Epoch 2/10\n"
     ]
    },
    {
     "name": "stdout",
     "output_type": "stream",
     "text": [
      "14979/14979 [==============================] - 3s 174us/step - loss: 0.7823 - acc: 0.7750 - val_loss: 0.5134 - val_acc: 0.8462\n",
      "Epoch 3/10\n",
      "14979/14979 [==============================] - 3s 170us/step - loss: 0.6427 - acc: 0.8189 - val_loss: 1.0809 - val_acc: 0.7057\n",
      "Epoch 4/10\n",
      "14979/14979 [==============================] - 3s 179us/step - loss: 0.6661 - acc: 0.8083 - val_loss: 0.5179 - val_acc: 0.8429\n",
      "Epoch 5/10\n",
      "14979/14979 [==============================] - 3s 173us/step - loss: 0.5787 - acc: 0.8349 - val_loss: 0.3860 - val_acc: 0.8862\n",
      "Epoch 6/10\n",
      "14979/14979 [==============================] - 3s 182us/step - loss: 0.5349 - acc: 0.8483 - val_loss: 0.3762 - val_acc: 0.8969\n",
      "Epoch 7/10\n",
      "14979/14979 [==============================] - 3s 190us/step - loss: 0.5393 - acc: 0.8469 - val_loss: 0.3609 - val_acc: 0.9049\n",
      "Epoch 8/10\n",
      "14979/14979 [==============================] - 3s 174us/step - loss: 0.5130 - acc: 0.8540 - val_loss: 0.3742 - val_acc: 0.8974\n",
      "Epoch 9/10\n",
      "14979/14979 [==============================] - 3s 170us/step - loss: 0.5064 - acc: 0.8589 - val_loss: 1.5210 - val_acc: 0.6581\n",
      "Epoch 10/10\n",
      "14979/14979 [==============================] - 3s 168us/step - loss: 0.5666 - acc: 0.8402 - val_loss: 0.3513 - val_acc: 0.9033\n",
      "Train on 14979 samples, validate on 1872 samples\n",
      "Epoch 1/10\n",
      "14979/14979 [==============================] - 3s 197us/step - loss: 1.3635 - acc: 0.5468 - val_loss: 1.5303 - val_acc: 0.5561\n",
      "Epoch 2/10\n",
      "14979/14979 [==============================] - 2s 167us/step - loss: 0.9970 - acc: 0.6956 - val_loss: 2.4167 - val_acc: 0.5753\n",
      "Epoch 3/10\n",
      "14979/14979 [==============================] - 3s 170us/step - loss: 1.0291 - acc: 0.6884 - val_loss: 0.6293 - val_acc: 0.8296\n",
      "Epoch 4/10\n",
      "14979/14979 [==============================] - 3s 171us/step - loss: 1.0064 - acc: 0.6922 - val_loss: 2.8378 - val_acc: 0.3819\n",
      "Epoch 5/10\n",
      "14979/14979 [==============================] - 3s 167us/step - loss: 1.0319 - acc: 0.6909 - val_loss: 1.0555 - val_acc: 0.7634\n",
      "Epoch 6/10\n",
      "14979/14979 [==============================] - 3s 174us/step - loss: 0.9894 - acc: 0.6994 - val_loss: 0.9899 - val_acc: 0.7308\n",
      "Epoch 7/10\n",
      "14979/14979 [==============================] - 3s 193us/step - loss: 1.0243 - acc: 0.6822 - val_loss: 0.7968 - val_acc: 0.7890\n",
      "Epoch 8/10\n",
      "14979/14979 [==============================] - 3s 190us/step - loss: 0.9723 - acc: 0.7071 - val_loss: 1.0618 - val_acc: 0.6912\n",
      "Epoch 9/10\n",
      "14979/14979 [==============================] - 3s 178us/step - loss: 0.9204 - acc: 0.7199 - val_loss: 1.3158 - val_acc: 0.7644\n",
      "Epoch 10/10\n",
      "14979/14979 [==============================] - 3s 203us/step - loss: 0.9529 - acc: 0.7146 - val_loss: 0.6592 - val_acc: 0.7853\n",
      "Train on 14979 samples, validate on 1872 samples\n",
      "Epoch 1/10\n",
      "14979/14979 [==============================] - 3s 208us/step - loss: 0.7384 - acc: 0.7890 - val_loss: 0.5694 - val_acc: 0.7986\n",
      "Epoch 2/10\n",
      "14979/14979 [==============================] - 3s 172us/step - loss: 0.3382 - acc: 0.9049 - val_loss: 7.7514 - val_acc: 0.1458\n",
      "Epoch 3/10\n",
      "14979/14979 [==============================] - 2s 167us/step - loss: 0.4638 - acc: 0.8854 - val_loss: 0.4303 - val_acc: 0.8777\n",
      "Epoch 4/10\n",
      "14979/14979 [==============================] - 3s 170us/step - loss: 0.2826 - acc: 0.9202 - val_loss: 1.3363 - val_acc: 0.6800\n",
      "Epoch 5/10\n",
      "14979/14979 [==============================] - 3s 177us/step - loss: 0.2992 - acc: 0.9197 - val_loss: 2.9576 - val_acc: 0.5326\n",
      "Epoch 6/10\n",
      "14979/14979 [==============================] - 3s 179us/step - loss: 0.3263 - acc: 0.9167 - val_loss: 0.3190 - val_acc: 0.9204\n",
      "Epoch 7/10\n",
      "14979/14979 [==============================] - 2s 159us/step - loss: 0.2197 - acc: 0.9390 - val_loss: 0.3066 - val_acc: 0.9225\n",
      "Epoch 8/10\n",
      "14979/14979 [==============================] - 3s 171us/step - loss: 0.1960 - acc: 0.9455 - val_loss: 0.3025 - val_acc: 0.9263\n",
      "Epoch 9/10\n",
      "14979/14979 [==============================] - 2s 163us/step - loss: 0.1779 - acc: 0.9482 - val_loss: 0.3309 - val_acc: 0.9108\n",
      "Epoch 10/10\n",
      "14979/14979 [==============================] - 2s 155us/step - loss: 0.1607 - acc: 0.9535 - val_loss: 2.8985 - val_acc: 0.5572\n",
      "best rate: 0.263, acc: 0.928\n"
     ]
    }
   ],
   "source": [
    "run = lambda rate: test([\n",
    "        Reshape((28, 28, 1), input_shape=(28 * 28,)),\n",
    "        Conv2D(32, (5, 5), strides=2, activation='relu'),\n",
    "        MaxPooling2D((2, 2), strides=1),\n",
    "        Dropout(rate),\n",
    "        Flatten(),\n",
    "        Dense(1024, activation='tanh'),\n",
    "        Dense(10,   activation='softmax'),\n",
    "    ], test=False, print=False)\n",
    "\n",
    "rates = np.linspace(0, 1, 20)\n",
    "accus = np.array([run(rate) for rate in rates])\n",
    "\n",
    "rate, acc = rates[accus.argmax()], accus.max()\n",
    "print(f'best rate: {rate:.3f}, acc: {acc:.3f}')"
   ]
  },
  {
   "cell_type": "markdown",
   "metadata": {},
   "source": [
    "###### 6 total"
   ]
  },
  {
   "cell_type": "code",
   "execution_count": 22,
   "metadata": {},
   "outputs": [
    {
     "name": "stdout",
     "output_type": "stream",
     "text": [
      "Train on 14979 samples, validate on 1872 samples\n",
      "Epoch 1/10\n",
      "14979/14979 [==============================] - 3s 208us/step - loss: 0.7463 - acc: 0.7742 - val_loss: 0.3881 - val_acc: 0.8905\n",
      "Epoch 2/10\n",
      "14979/14979 [==============================] - 3s 168us/step - loss: 0.3556 - acc: 0.9001 - val_loss: 0.9001 - val_acc: 0.7959\n",
      "Epoch 3/10\n",
      "14979/14979 [==============================] - 2s 165us/step - loss: 0.3168 - acc: 0.9112 - val_loss: 1.1609 - val_acc: 0.7997\n",
      "Epoch 4/10\n",
      "14979/14979 [==============================] - 2s 166us/step - loss: 0.2976 - acc: 0.9178 - val_loss: 1.8607 - val_acc: 0.6303\n",
      "Epoch 5/10\n",
      "14979/14979 [==============================] - 3s 169us/step - loss: 0.2873 - acc: 0.9202 - val_loss: 0.3072 - val_acc: 0.9215\n",
      "Epoch 6/10\n",
      "14979/14979 [==============================] - 3s 169us/step - loss: 0.2434 - acc: 0.9311 - val_loss: 0.2984 - val_acc: 0.9193\n",
      "Epoch 7/10\n",
      "14979/14979 [==============================] - 2s 165us/step - loss: 0.2295 - acc: 0.9323 - val_loss: 0.3837 - val_acc: 0.9001\n",
      "Epoch 8/10\n",
      "14979/14979 [==============================] - 2s 164us/step - loss: 0.2171 - acc: 0.9366 - val_loss: 4.3651 - val_acc: 0.4781\n",
      "Epoch 9/10\n",
      "14979/14979 [==============================] - 2s 164us/step - loss: 0.3115 - acc: 0.9176 - val_loss: 0.3155 - val_acc: 0.9183\n",
      "Epoch 10/10\n",
      "14979/14979 [==============================] - 2s 164us/step - loss: 0.2083 - acc: 0.9383 - val_loss: 0.2970 - val_acc: 0.9231\n"
     ]
    },
    {
     "data": {
      "text/markdown": [
       "**test**: loss 0.270, accuracy 0.926"
      ],
      "text/plain": [
       "<IPython.core.display.Markdown object>"
      ]
     },
     "metadata": {},
     "output_type": "display_data"
    }
   ],
   "source": [
    "test([\n",
    "    Reshape((28, 28, 1), input_shape=(28 * 28,)),\n",
    "    Conv2D(32, (5, 5), strides=2, activation='relu'),\n",
    "    MaxPooling2D((2, 2), strides=1),\n",
    "    Dropout(rate),\n",
    "    Flatten(),\n",
    "    Dense(1024, activation='tanh'),\n",
    "    Dense(10,   activation='softmax'),\n",
    "]) and None"
   ]
  },
  {
   "cell_type": "markdown",
   "metadata": {},
   "source": [
    "### task 8\n",
    "\n",
    "Сравните время работы самой глубокой полученной сети на CPU и GPU."
   ]
  },
  {
   "cell_type": "code",
   "execution_count": 7,
   "metadata": {},
   "outputs": [],
   "source": [
    "run = lambda: test([\n",
    "    Reshape((28, 28, 1), input_shape=(28 * 28,)),\n",
    "    Conv2D(32, (5, 5), strides=2, activation='relu'),\n",
    "    MaxPooling2D((2, 2), strides=1),\n",
    "    Dropout(0.368),\n",
    "    Conv2D(64, (5, 5), strides=2, activation='relu'),\n",
    "    MaxPooling2D((2, 2), strides=2),\n",
    "    Dropout(0.368),\n",
    "    Flatten(),\n",
    "    Dense(1024, activation='tanh'),\n",
    "    Dense(10,   activation='softmax'),\n",
    "])"
   ]
  },
  {
   "cell_type": "code",
   "execution_count": 38,
   "metadata": {},
   "outputs": [
    {
     "name": "stdout",
     "output_type": "stream",
     "text": [
      "GPU\n"
     ]
    },
    {
     "data": {
      "text/markdown": [
       "**test**: loss 0.059, accuracy 0.985"
      ],
      "text/plain": [
       "<IPython.core.display.Markdown object>"
      ]
     },
     "metadata": {},
     "output_type": "display_data"
    },
    {
     "name": "stdout",
     "output_type": "stream",
     "text": [
      "CPU times: user 10.3 s, sys: 1.77 s, total: 12.1 s\n",
      "Wall time: 10.4 s\n"
     ]
    }
   ],
   "source": [
    "%%time\n",
    "\n",
    "print('GPU')\n",
    "run()"
   ]
  },
  {
   "cell_type": "code",
   "execution_count": 10,
   "metadata": {},
   "outputs": [],
   "source": [
    "# restart the kernel, run this cell, then the 1st and following\n",
    "\n",
    "import os\n",
    "os.environ[\"CUDA_DEVICE_ORDER\"] = \"PCI_BUS_ID\"   # see issue #152\n",
    "os.environ[\"CUDA_VISIBLE_DEVICES\"] = \"\""
   ]
  },
  {
   "cell_type": "code",
   "execution_count": 9,
   "metadata": {},
   "outputs": [
    {
     "name": "stdout",
     "output_type": "stream",
     "text": [
      "CPU\n"
     ]
    },
    {
     "data": {
      "text/markdown": [
       "**test**: loss 14.619, accuracy 0.093"
      ],
      "text/plain": [
       "<IPython.core.display.Markdown object>"
      ]
     },
     "metadata": {},
     "output_type": "display_data"
    },
    {
     "name": "stdout",
     "output_type": "stream",
     "text": [
      "CPU times: user 1min 3s, sys: 12.9 s, total: 1min 16s\n",
      "Wall time: 26.2 s\n"
     ]
    }
   ],
   "source": [
    "%%time\n",
    "\n",
    "import tensorflow as tf\n",
    "with tf.device('/cpu:0'):\n",
    "    print('CPU')\n",
    "    run()"
   ]
  },
  {
   "cell_type": "markdown",
   "metadata": {},
   "source": [
    "<b style=\"color:#ff5722\">Итог</b>: время на GPU: 12 секунд, время на CPU: 66 секунд."
   ]
  }
 ],
 "metadata": {
  "kernelspec": {
   "display_name": "Python 3",
   "language": "python",
   "name": "python3"
  },
  "language_info": {
   "codemirror_mode": {
    "name": "ipython",
    "version": 3
   },
   "file_extension": ".py",
   "mimetype": "text/x-python",
   "name": "python",
   "nbconvert_exporter": "python",
   "pygments_lexer": "ipython3",
   "version": "3.6.5"
  }
 },
 "nbformat": 4,
 "nbformat_minor": 2
}
