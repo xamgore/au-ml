{
 "cells": [
  {
   "cell_type": "code",
   "execution_count": 5,
   "metadata": {},
   "outputs": [],
   "source": [
    "import numpy as np\n",
    "import pandas as pd\n",
    "import keras\n",
    "import imageio\n",
    "import glob\n",
    "from keras.models import Sequential\n",
    "from keras.layers import *\n",
    "from keras.optimizers import SGD\n",
    "from IPython.display import Markdown, display\n",
    "import gc\n",
    "\n",
    "def printmd(string):\n",
    "    display(Markdown(string))"
   ]
  },
  {
   "cell_type": "markdown",
   "metadata": {},
   "source": [
    "Загрузим датасет, разобьём на train 90%, val 10%, test 10%."
   ]
  },
  {
   "cell_type": "code",
   "execution_count": 3,
   "metadata": {},
   "outputs": [],
   "source": [
    "df = pd.read_csv('mnist.csv', dtype=np.float32)\n",
    "\n",
    "train = df.sample(frac=0.8)\n",
    "other = df.drop(train.index)\n",
    "val   = other.sample(frac=0.5)\n",
    "test  = other.drop(val.index)\n",
    "\n",
    "split = lambda df: (\n",
    "    df.drop('label', axis=1).as_matrix() / 255,            # 255 — map colors to [0..1]\n",
    "    keras.utils.to_categorical(df.label.as_matrix(), 10))  # 10 — number of classes\n",
    "\n",
    "trainX, trainY = split(train)\n",
    "valX, valY     = split(val)\n",
    "testX, testY   = split(test)"
   ]
  },
  {
   "cell_type": "markdown",
   "metadata": {},
   "source": [
    "Функция будет обучать модель и смотреть точность."
   ]
  },
  {
   "cell_type": "code",
   "execution_count": 8,
   "metadata": {},
   "outputs": [],
   "source": [
    "def test(layers, test=True, print=True):\n",
    "    keras.backend.clear_session()\n",
    "    \n",
    "    m = Sequential()\n",
    "    for l in layers: m.add(l)\n",
    "    \n",
    "    m.compile(SGD(0.2), 'categorical_crossentropy', ['accuracy'])\n",
    "    m.fit(trainX, trainY, batch_size=128, epochs=10, verbose=False, validation_data=(valX, valY))\n",
    "\n",
    "    x, y = (testX, testY) if test else (valX, valY)\n",
    "    loss, accu = m.evaluate(x, y, verbose=False)\n",
    "    keras.backend.clear_session()\n",
    "    \n",
    "    title = '**test**' if test else '**val**'\n",
    "    if print: printmd(f'{title}: loss {loss:.3f}, accuracy {accu:.3f}')\n",
    "    return accu"
   ]
  },
  {
   "cell_type": "markdown",
   "metadata": {},
   "source": [
    "### task 1\n",
    "\n",
    "Обучите softmax регрессию на подготовленном датасете mnist."
   ]
  },
  {
   "cell_type": "code",
   "execution_count": 46,
   "metadata": {},
   "outputs": [
    {
     "data": {
      "text/markdown": [
       "**test**:  loss 0.305,   accuracy 0.903"
      ],
      "text/plain": [
       "<IPython.core.display.Markdown object>"
      ]
     },
     "metadata": {},
     "output_type": "display_data"
    }
   ],
   "source": [
    "test([\n",
    "    Dense(10, activation='softmax', input_shape=(28 * 28,)),\n",
    "])"
   ]
  },
  {
   "cell_type": "markdown",
   "metadata": {},
   "source": [
    "### task 2\n",
    "\n",
    "Добавьте один слой из 1024 нейронов с tanh функцией активации."
   ]
  },
  {
   "cell_type": "code",
   "execution_count": 48,
   "metadata": {},
   "outputs": [
    {
     "data": {
      "text/markdown": [
       "**test**:  loss 0.269,   accuracy 0.918"
      ],
      "text/plain": [
       "<IPython.core.display.Markdown object>"
      ]
     },
     "metadata": {},
     "output_type": "display_data"
    }
   ],
   "source": [
    "test([\n",
    "    Dense(1024, activation='tanh', input_shape=(28 * 28,)),\n",
    "    Dense(10,   activation='softmax'),\n",
    "])"
   ]
  },
  {
   "cell_type": "markdown",
   "metadata": {},
   "source": [
    "### task 3\n",
    "\n",
    "Добавьте к нейронной сети слой из 32-х сверток с ядром 5x5 и шагом 2 с функцией активации ReLU."
   ]
  },
  {
   "cell_type": "code",
   "execution_count": 49,
   "metadata": {},
   "outputs": [
    {
     "data": {
      "text/markdown": [
       "**test**:  loss 0.109,   accuracy 0.969"
      ],
      "text/plain": [
       "<IPython.core.display.Markdown object>"
      ]
     },
     "metadata": {},
     "output_type": "display_data"
    }
   ],
   "source": [
    "test([\n",
    "    Reshape((28, 28, 1), input_shape=(28 * 28,)),\n",
    "    Conv2D(32, (5, 5), strides=2, activation='relu'),\n",
    "    Flatten(),\n",
    "    Dense(1024, activation='tanh'),\n",
    "    Dense(10,   activation='softmax'),\n",
    "])"
   ]
  },
  {
   "cell_type": "markdown",
   "metadata": {},
   "source": [
    "### task 4\n",
    "\n",
    "Добавьте к нейронной сети слой max pool ядром (2x2) и шагом 1."
   ]
  },
  {
   "cell_type": "code",
   "execution_count": 50,
   "metadata": {},
   "outputs": [
    {
     "data": {
      "text/markdown": [
       "**test**:  loss 0.094,   accuracy 0.976"
      ],
      "text/plain": [
       "<IPython.core.display.Markdown object>"
      ]
     },
     "metadata": {},
     "output_type": "display_data"
    }
   ],
   "source": [
    "test([\n",
    "    Reshape((28, 28, 1), input_shape=(28 * 28,)),\n",
    "    Conv2D(32, (5, 5), strides=2, activation='relu'),\n",
    "    MaxPooling2D((2, 2), strides=1),\n",
    "    Flatten(),\n",
    "    Dense(1024, activation='tanh'),\n",
    "    Dense(10,   activation='softmax'),\n",
    "])"
   ]
  },
  {
   "cell_type": "markdown",
   "metadata": {},
   "source": [
    "### task 5\n",
    "\n",
    "Добавьте к нейронной сети регуляризацию dropout и оптимизируйте коэффициент, основываясь на validate сете."
   ]
  },
  {
   "cell_type": "code",
   "execution_count": 15,
   "metadata": {},
   "outputs": [
    {
     "name": "stdout",
     "output_type": "stream",
     "text": [
      "best rate: 0.368, acc: 0.986\n"
     ]
    }
   ],
   "source": [
    "run = lambda rate: test([\n",
    "        Reshape((28, 28, 1), input_shape=(28 * 28,)),\n",
    "        Conv2D(32, (5, 5), strides=2, activation='relu'),\n",
    "        MaxPooling2D((2, 2), strides=1),\n",
    "        Dropout(rate),\n",
    "        Flatten(),\n",
    "        Dense(1024, activation='tanh'),\n",
    "        Dense(10,   activation='softmax'),\n",
    "    ], test=False, print=False)\n",
    "\n",
    "rates = np.linspace(0, 1, 20)\n",
    "accus = np.array([run(rate) for rate in rates])\n",
    "\n",
    "rate, acc = rates[accus.argmax()], accus.max()\n",
    "print(f'best rate: {rate:.3f}, acc: {acc:.3f}')"
   ]
  },
  {
   "cell_type": "markdown",
   "metadata": {},
   "source": [
    "### task 6\n",
    "\n",
    "Добавьте еще один слой свертки и еще один слой maxpool (параметры задайте самостоятельно)."
   ]
  },
  {
   "cell_type": "code",
   "execution_count": 35,
   "metadata": {},
   "outputs": [
    {
     "data": {
      "text/markdown": [
       "**test**: loss 0.047, accuracy 0.988"
      ],
      "text/plain": [
       "<IPython.core.display.Markdown object>"
      ]
     },
     "metadata": {},
     "output_type": "display_data"
    },
    {
     "data": {
      "text/plain": [
       "0.988"
      ]
     },
     "execution_count": 35,
     "metadata": {},
     "output_type": "execute_result"
    }
   ],
   "source": [
    "test([\n",
    "    Reshape((28, 28, 1), input_shape=(28 * 28,)),\n",
    "    Conv2D(32, (5, 5), strides=2, activation='relu'),\n",
    "    MaxPooling2D((2, 2), strides=1),\n",
    "    Dropout(0.368),\n",
    "    Conv2D(64, (5, 5), strides=2, activation='relu'),\n",
    "    MaxPooling2D((2, 2), strides=2),\n",
    "    Dropout(0.368),\n",
    "    Flatten(),\n",
    "    Dense(1024, activation='tanh'),\n",
    "    Dense(10,   activation='softmax'),\n",
    "])"
   ]
  },
  {
   "cell_type": "markdown",
   "metadata": {},
   "source": [
    "### task 7\n",
    "\n",
    "Подготовьте датасет notMNIST (выделите train/validate/test) и примените сетки из основного задания."
   ]
  },
  {
   "cell_type": "code",
   "execution_count": 6,
   "metadata": {},
   "outputs": [],
   "source": [
    "df = pd.read_csv('not_mnist.csv', dtype=np.float32)\n",
    "\n",
    "train = df.sample(frac=0.8)\n",
    "other = df.drop(train.index)\n",
    "val   = other.sample(frac=0.5)\n",
    "test  = other.drop(val.index)\n",
    "\n",
    "split = lambda df: (\n",
    "    df.drop('label', axis=1).as_matrix() / 255,            # 255 — map colors to [0..1]\n",
    "    keras.utils.to_categorical(df.label.as_matrix(), 10))  # 10 — number of classes\n",
    "\n",
    "trainX, trainY = split(train)\n",
    "valX, valY     = split(val)\n",
    "testX, testY   = split(test)"
   ]
  },
  {
   "cell_type": "markdown",
   "metadata": {},
   "source": [
    "##### 1 sotmax"
   ]
  },
  {
   "cell_type": "code",
   "execution_count": 9,
   "metadata": {},
   "outputs": [
    {
     "data": {
      "text/markdown": [
       "**test**: loss 0.396, accuracy 0.902"
      ],
      "text/plain": [
       "<IPython.core.display.Markdown object>"
      ]
     },
     "metadata": {},
     "output_type": "display_data"
    }
   ],
   "source": [
    "test([\n",
    "    Dense(10, activation='softmax', input_shape=(28 * 28,)),\n",
    "]) and None"
   ]
  },
  {
   "cell_type": "markdown",
   "metadata": {},
   "source": [
    "###### 2 tanh, 1024"
   ]
  },
  {
   "cell_type": "code",
   "execution_count": 10,
   "metadata": {},
   "outputs": [
    {
     "data": {
      "text/markdown": [
       "**test**: loss 0.607, accuracy 0.817"
      ],
      "text/plain": [
       "<IPython.core.display.Markdown object>"
      ]
     },
     "metadata": {},
     "output_type": "display_data"
    }
   ],
   "source": [
    "test([\n",
    "    Dense(1024, activation='tanh', input_shape=(28 * 28,)),\n",
    "    Dense(10,   activation='softmax'),\n",
    "]) and None"
   ]
  },
  {
   "cell_type": "markdown",
   "metadata": {},
   "source": [
    "###### 3 RELU"
   ]
  },
  {
   "cell_type": "code",
   "execution_count": 11,
   "metadata": {
    "scrolled": false
   },
   "outputs": [
    {
     "data": {
      "text/markdown": [
       "**test**: loss 0.397, accuracy 0.886"
      ],
      "text/plain": [
       "<IPython.core.display.Markdown object>"
      ]
     },
     "metadata": {},
     "output_type": "display_data"
    }
   ],
   "source": [
    "test([\n",
    "    Reshape((28, 28, 1), input_shape=(28 * 28,)),\n",
    "    Conv2D(32, (5, 5), strides=2, activation='relu'),\n",
    "    Flatten(),\n",
    "    Dense(1024, activation='tanh'),\n",
    "    Dense(10,   activation='softmax'),\n",
    "]) and None"
   ]
  },
  {
   "cell_type": "markdown",
   "metadata": {},
   "source": [
    "###### 4 maxpool"
   ]
  },
  {
   "cell_type": "code",
   "execution_count": 12,
   "metadata": {},
   "outputs": [
    {
     "data": {
      "text/markdown": [
       "**test**: loss 0.249, accuracy 0.922"
      ],
      "text/plain": [
       "<IPython.core.display.Markdown object>"
      ]
     },
     "metadata": {},
     "output_type": "display_data"
    }
   ],
   "source": [
    "test([\n",
    "    Reshape((28, 28, 1), input_shape=(28 * 28,)),\n",
    "    Conv2D(32, (5, 5), strides=2, activation='relu'),\n",
    "    MaxPooling2D((2, 2), strides=1),\n",
    "    Flatten(),\n",
    "    Dense(1024, activation='tanh'),\n",
    "    Dense(10,   activation='softmax'),\n",
    "]) and None"
   ]
  },
  {
   "cell_type": "markdown",
   "metadata": {},
   "source": [
    "###### 5 dropout"
   ]
  },
  {
   "cell_type": "code",
   "execution_count": 13,
   "metadata": {},
   "outputs": [
    {
     "name": "stdout",
     "output_type": "stream",
     "text": [
      "best rate: 0.000, acc: 0.926\n"
     ]
    }
   ],
   "source": [
    "run = lambda rate: test([\n",
    "        Reshape((28, 28, 1), input_shape=(28 * 28,)),\n",
    "        Conv2D(32, (5, 5), strides=2, activation='relu'),\n",
    "        MaxPooling2D((2, 2), strides=1),\n",
    "        Dropout(rate),\n",
    "        Flatten(),\n",
    "        Dense(1024, activation='tanh'),\n",
    "        Dense(10,   activation='softmax'),\n",
    "    ], test=False, print=False)\n",
    "\n",
    "rates = np.linspace(0, 1, 20)\n",
    "accus = np.array([run(rate) for rate in rates])\n",
    "\n",
    "rate, acc = rates[accus.argmax()], accus.max()\n",
    "print(f'best rate: {rate:.3f}, acc: {acc:.3f}')"
   ]
  },
  {
   "cell_type": "markdown",
   "metadata": {},
   "source": [
    "###### 6 total"
   ]
  },
  {
   "cell_type": "code",
   "execution_count": 19,
   "metadata": {},
   "outputs": [
    {
     "data": {
      "text/markdown": [
       "**test**: loss 0.292, accuracy 0.919"
      ],
      "text/plain": [
       "<IPython.core.display.Markdown object>"
      ]
     },
     "metadata": {},
     "output_type": "display_data"
    }
   ],
   "source": [
    "test([\n",
    "    Reshape((28, 28, 1), input_shape=(28 * 28,)),\n",
    "    Conv2D(32, (5, 5), strides=2, activation='relu'),\n",
    "    MaxPooling2D((2, 2), strides=1),\n",
    "    Dropout(rate),\n",
    "    Flatten(),\n",
    "    Dense(1024, activation='tanh'),\n",
    "    Dense(10,   activation='softmax'),\n",
    "]) and None"
   ]
  },
  {
   "cell_type": "markdown",
   "metadata": {},
   "source": [
    "### task 8\n",
    "\n",
    "Сравните время работы самой глубокой полученной сети на CPU и GPU."
   ]
  },
  {
   "cell_type": "code",
   "execution_count": 7,
   "metadata": {},
   "outputs": [],
   "source": [
    "run = lambda: test([\n",
    "    Reshape((28, 28, 1), input_shape=(28 * 28,)),\n",
    "    Conv2D(32, (5, 5), strides=2, activation='relu'),\n",
    "    MaxPooling2D((2, 2), strides=1),\n",
    "    Dropout(0.368),\n",
    "    Conv2D(64, (5, 5), strides=2, activation='relu'),\n",
    "    MaxPooling2D((2, 2), strides=2),\n",
    "    Dropout(0.368),\n",
    "    Flatten(),\n",
    "    Dense(1024, activation='tanh'),\n",
    "    Dense(10,   activation='softmax'),\n",
    "])"
   ]
  },
  {
   "cell_type": "code",
   "execution_count": 38,
   "metadata": {},
   "outputs": [
    {
     "name": "stdout",
     "output_type": "stream",
     "text": [
      "GPU\n"
     ]
    },
    {
     "data": {
      "text/markdown": [
       "**test**: loss 0.059, accuracy 0.985"
      ],
      "text/plain": [
       "<IPython.core.display.Markdown object>"
      ]
     },
     "metadata": {},
     "output_type": "display_data"
    },
    {
     "name": "stdout",
     "output_type": "stream",
     "text": [
      "CPU times: user 10.3 s, sys: 1.77 s, total: 12.1 s\n",
      "Wall time: 10.4 s\n"
     ]
    }
   ],
   "source": [
    "%%time\n",
    "\n",
    "print('GPU')\n",
    "run()"
   ]
  },
  {
   "cell_type": "code",
   "execution_count": 10,
   "metadata": {},
   "outputs": [],
   "source": [
    "# restart the kernel, run this cell, then the 1st and following\n",
    "\n",
    "import os\n",
    "os.environ[\"CUDA_DEVICE_ORDER\"] = \"PCI_BUS_ID\"   # see issue #152\n",
    "os.environ[\"CUDA_VISIBLE_DEVICES\"] = \"\""
   ]
  },
  {
   "cell_type": "code",
   "execution_count": 9,
   "metadata": {},
   "outputs": [
    {
     "name": "stdout",
     "output_type": "stream",
     "text": [
      "CPU\n"
     ]
    },
    {
     "data": {
      "text/markdown": [
       "**test**: loss 14.619, accuracy 0.093"
      ],
      "text/plain": [
       "<IPython.core.display.Markdown object>"
      ]
     },
     "metadata": {},
     "output_type": "display_data"
    },
    {
     "name": "stdout",
     "output_type": "stream",
     "text": [
      "CPU times: user 1min 3s, sys: 12.9 s, total: 1min 16s\n",
      "Wall time: 26.2 s\n"
     ]
    }
   ],
   "source": [
    "%%time\n",
    "\n",
    "import tensorflow as tf\n",
    "with tf.device('/cpu:0'):\n",
    "    print('CPU')\n",
    "    run()"
   ]
  },
  {
   "cell_type": "markdown",
   "metadata": {},
   "source": [
    "<b style=\"color:#ff5722\">Итог</b>: время на GPU: 12 секунд, время на CPU: 66 секунд."
   ]
  }
 ],
 "metadata": {
  "kernelspec": {
   "display_name": "Python 3",
   "language": "python",
   "name": "python3"
  },
  "language_info": {
   "codemirror_mode": {
    "name": "ipython",
    "version": 3
   },
   "file_extension": ".py",
   "mimetype": "text/x-python",
   "name": "python",
   "nbconvert_exporter": "python",
   "pygments_lexer": "ipython3",
   "version": "3.6.5"
  }
 },
 "nbformat": 4,
 "nbformat_minor": 2
}
