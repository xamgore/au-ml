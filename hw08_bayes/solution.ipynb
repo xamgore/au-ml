{
 "cells": [
  {
   "cell_type": "code",
   "execution_count": 88,
   "metadata": {},
   "outputs": [],
   "source": [
    "import numpy as np\n",
    "import pandas as pd\n",
    "import matplotlib.pyplot as plt\n",
    "from IPython.display import Markdown, display\n",
    "from sklearn.metrics import accuracy_score, roc_curve\n",
    "import gc\n",
    "% matplotlib inline\n",
    "%config InlineBackend.figure_format = 'retina'\n",
    "np.set_printoptions(threshold=np.inf)\n",
    "plt.rc('animation', html='html5')\n",
    "plt.rcParams[\"figure.figsize\"] = 4, 4\n",
    "\n",
    "def printmd(string):\n",
    "    display(Markdown(string))"
   ]
  },
  {
   "cell_type": "markdown",
   "metadata": {},
   "source": [
    "Загрузим датасет, разобьём на train 90%, test 10%."
   ]
  },
  {
   "cell_type": "code",
   "execution_count": 100,
   "metadata": {},
   "outputs": [],
   "source": [
    "def read(file='spambase.csv'):\n",
    "    df = pd.read_csv(file)\n",
    "\n",
    "    train = df.sample(frac=0.9)\n",
    "    test  = df.drop(train.index)\n",
    "\n",
    "    split = lambda df: (\n",
    "        df.drop('label', axis=1).as_matrix(),\n",
    "        df.label.as_matrix())\n",
    "    global trainX, trainY, testX, testY\n",
    "    trainX, trainY = split(train)\n",
    "    testX, testY   = split(test)"
   ]
  },
  {
   "cell_type": "markdown",
   "metadata": {},
   "source": [
    "### task 1\n",
    "\n",
    "Реализуйте алгоритм Gaussian naive Bayes для датасета `spambase.csv`."
   ]
  },
  {
   "cell_type": "code",
   "execution_count": 104,
   "metadata": {},
   "outputs": [
    {
     "name": "stdout",
     "output_type": "stream",
     "text": [
      "accuracy: 0.93478\n"
     ]
    },
    {
     "data": {
      "image/png": "[encoded data removed]",
      "text/plain": [
       "<matplotlib.figure.Figure at 0x7f44f6dc5e80>"
      ]
     },
     "metadata": {
      "image/png": {
       "height": 252,
       "width": 268
      }
     },
     "output_type": "display_data"
    }
   ],
   "source": [
    "read('spambase.csv')\n",
    "\n",
    "classes = np.unique(trainY)             # какие классы {y} есть\n",
    "counts  = np.bincount(trainY)           # сколько объектов принадлежит классу {y}\n",
    "probabs = np.log(counts / trainY.size)  # априорная вероятность класса {y}\n",
    "\n",
    "\n",
    "do = lambda xs: [xs.mean(), xs.std()]\n",
    "ds = np.array([[ do(trainX[trainY == y, f]) for f in range(trainX.shape[1])] for y in classes ])\n",
    "\n",
    "res = probabs + np.zeros((testX.shape[0], classes.size))\n",
    "\n",
    "for y in range(classes.size):\n",
    "    for feature in range(trainX.shape[1]):\n",
    "        xs        = testX.T[feature]\n",
    "        mean, std = ds[y][feature]\n",
    "        res.T[y] -= 0.5 * (xs - mean)**2 / (std**2 + 0.000001)\n",
    "\n",
    "print(f'accuracy: {accuracy_score(testY, res.T[1] > res.T[0]):.5f}')\n",
    "fpr, tpr, _ = roc_curve(testY, res.T[1] - res.T[0])\n",
    "plt.plot(fpr, tpr); plt.xlim((0, 1)); plt.ylim((0, 1))\n",
    "plt.show()"
   ]
  },
  {
   "cell_type": "markdown",
   "metadata": {},
   "source": [
    "### task 2\n",
    "\n",
    "Реализуйте алгоритм Multinomial naive Bayes для количества различных слов в датасете `smsspam.csv`."
   ]
  },
  {
   "cell_type": "code",
   "execution_count": 235,
   "metadata": {},
   "outputs": [
    {
     "name": "stdout",
     "output_type": "stream",
     "text": [
      "accuracy: 0.87792\n"
     ]
    },
    {
     "data": {
      "image/png": "[encoded data removed]",
      "text/plain": [
       "<matplotlib.figure.Figure at 0x7f44f8f11748>"
      ]
     },
     "metadata": {
      "image/png": {
       "height": 252,
       "width": 268
      }
     },
     "output_type": "display_data"
    }
   ],
   "source": [
    "np.seterr(divide='ignore')\n",
    "read('smsspam.csv')\n",
    "\n",
    "trainX, trainY = df.drop('label', axis=1).as_matrix(), df.label.as_matrix()\n",
    "trainY = trainY == 'spam'\n",
    "testY  = testY  == 'spam'\n",
    "                                             # количество различных слов в смс\n",
    "trainX = np.apply_along_axis( lambda words: [len(set(words[0].split()))], 1, trainX )\n",
    "testX  = np.apply_along_axis( lambda words: [len(set(words[0].split()))], 1, testX )\n",
    "\n",
    "classes = np.unique(trainY)             # какие классы {y} есть\n",
    "counts  = np.bincount(trainY)           # сколько объектов принадлежит классу {y}\n",
    "probabs = np.log(counts / trainY.size)  # априорная вероятность класса {y}\n",
    "\n",
    "\n",
    "do = lambda xs: [xs.mean(), xs.std()]\n",
    "ds = np.array([[ do(trainX[trainY == y, f]) for f in range(trainX.shape[1])] for y in classes ])\n",
    "\n",
    "res = probabs + np.zeros((testX.shape[0], classes.size))\n",
    "\n",
    "for y in range(classes.size):\n",
    "    for feature in range(trainX.shape[1]):\n",
    "        xs        = testX.T[feature]\n",
    "        mean, std = ds[y][feature]\n",
    "        res.T[y] -= 0.5 * (xs - mean)**2 / (std**2 + 0.000001)\n",
    "\n",
    "print(f'accuracy: {accuracy_score(testY, res.T[1] > res.T[0]):.5f}')\n",
    "fpr, tpr, _ = roc_curve(testY, res.T[1] - res.T[0])\n",
    "plt.plot(fpr, tpr); plt.xlim((0, 1)); plt.ylim((0, 1))\n",
    "plt.show()"
   ]
  }
 ],
 "metadata": {
  "kernelspec": {
   "display_name": "Python 3",
   "language": "python",
   "name": "python3"
  },
  "language_info": {
   "codemirror_mode": {
    "name": "ipython",
    "version": 3
   },
   "file_extension": ".py",
   "mimetype": "text/x-python",
   "name": "python",
   "nbconvert_exporter": "python",
   "pygments_lexer": "ipython3",
   "version": "3.6.5"
  }
 },
 "nbformat": 4,
 "nbformat_minor": 2
}
