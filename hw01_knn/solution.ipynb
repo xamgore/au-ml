{
 "cells": [
  {
   "cell_type": "markdown",
   "metadata": {},
   "source": [
    "## Домашнее задание 1\n",
    "\n",
    "Стребежев Игорь"
   ]
  },
  {
   "cell_type": "code",
   "execution_count": 2,
   "metadata": {
    "scrolled": true
   },
   "outputs": [],
   "source": [
    "import numpy as np\n",
    "import pandas as pd\n",
    "import matplotlib.pyplot as plt\n",
    "import matplotlib as mpl\n",
    "% matplotlib inline\n",
    "%config InlineBackend.figure_format = 'retina'\n",
    "\n",
    "\n",
    "df = pd.read_csv('spambase.csv')\n",
    "df.head()\n",
    "\n",
    "Y = df.label.values\n",
    "X = df[df.columns.drop('label')].as_matrix()"
   ]
  },
  {
   "cell_type": "markdown",
   "metadata": {},
   "source": [
    "### task 1\n",
    "\n",
    "Реализуйте алгоритм $\\texttt{kNN}$ классификации по $k$ ближайшим соседям, используя простое\n",
    "евклидовое расстояние."
   ]
  },
  {
   "cell_type": "code",
   "execution_count": 3,
   "metadata": {},
   "outputs": [],
   "source": [
    "from scipy.spatial.distance import cdist\n",
    "\n",
    "\n",
    "def knn(X, Y, x: np.ndarray, k=1):\n",
    "    # compute distances between x and each vector in X\n",
    "    dists = cdist([x], X, 'euclidean')[0]\n",
    "    # take the k nearest vectors\n",
    "    nearest = dists.argpartition(k, axis=0)[:k]\n",
    "    # vote for the most common class\n",
    "    return int(Y[nearest].sum() >= nearest.size / 2.0)"
   ]
  },
  {
   "cell_type": "markdown",
   "metadata": {},
   "source": [
    "### task 2\n",
    "\n",
    "Вычислите значение метрики $\\texttt{LOO}$ для всех вариантов количества соседей $k$ от 1 до 10."
   ]
  },
  {
   "cell_type": "code",
   "execution_count": 4,
   "metadata": {},
   "outputs": [],
   "source": [
    "def loo(X, Y):\n",
    "    N = Y.size\n",
    "\n",
    "    # for each row R: make a hole at R in the X\n",
    "    holes = np.arange(1, N) - np.tri(N, N - 1, k=-1, dtype=bool)\n",
    "\n",
    "    for k in range(1, 11):\n",
    "        errs = (knn(X[ixs], Y[ixs], X[row], k) != Y[row] for (row, ixs) in enumerate(holes))\n",
    "        rate = sum(errs) * 100.0 / N\n",
    "        print(f'k={str(k) + \",\":<3} error: {rate:.5f}%')"
   ]
  },
  {
   "cell_type": "code",
   "execution_count": 387,
   "metadata": {
    "scrolled": true
   },
   "outputs": [
    {
     "name": "stdout",
     "output_type": "stream",
     "text": [
      "k=1,  error: 16.95284%\n",
      "k=2,  error: 20.21300%\n",
      "k=3,  error: 18.56118%\n",
      "k=4,  error: 19.38709%\n",
      "k=5,  error: 18.58292%\n",
      "k=6,  error: 19.32189%\n",
      "k=7,  error: 19.56097%\n",
      "k=8,  error: 19.80004%\n",
      "k=9,  error: 20.27820%\n",
      "k=10, error: 20.45208%\n"
     ]
    }
   ],
   "source": [
    "loo(X, Y)"
   ]
  },
  {
   "cell_type": "markdown",
   "metadata": {},
   "source": [
    "### task 3\n",
    "\n",
    "Реализуйте алгоритм $\\texttt{RadiusNeighbours}$ классификации по соседям, лежащим на расстоянии меньшем $r$ (радиус)."
   ]
  },
  {
   "cell_type": "code",
   "execution_count": 5,
   "metadata": {},
   "outputs": [],
   "source": [
    "def radNN(X, Y, x: np.ndarray, r=1.0):\n",
    "    # compute distances between x and each vector in X\n",
    "    dists = cdist([x], X, 'euclidean')[0]\n",
    "    # take all in the circle of radius r\n",
    "    nearest = (dists < r).nonzero()[0]\n",
    "    # vote for the most common class\n",
    "    return int(Y[nearest].sum() >= nearest.size / 2.0)"
   ]
  },
  {
   "cell_type": "markdown",
   "metadata": {},
   "source": [
    "### task 4\n",
    "\n",
    "Найдите лучший радиус с помощью тернарного поиска."
   ]
  },
  {
   "cell_type": "code",
   "execution_count": 6,
   "metadata": {},
   "outputs": [],
   "source": [
    "# find minimum of function f on [left, right] segment\n",
    "def ternarySearch(f, left, right, absolutePrecision=0.1):\n",
    "    while True:\n",
    "        #left and right are the current bounds; the minimum is between them\n",
    "        if abs(right - left) < absolutePrecision:\n",
    "            return (left + right)/2\n",
    "\n",
    "        leftThird  = left + (right - left)/3\n",
    "        rightThird = right - (right - left)/3\n",
    "\n",
    "        if f(leftThird) > f(rightThird):\n",
    "            left  = leftThird\n",
    "        else:\n",
    "            right = rightThird\n",
    "            \n",
    "\n",
    "def findBestRadius(X, Y, absolutePrecision=0.1):\n",
    "    N = Y.size\n",
    "    \n",
    "    # for each row R: make a hole at R in the X\n",
    "    holes = np.arange(1, N) - np.tri(N, N - 1, k=-1, dtype=bool)\n",
    "    \n",
    "    def rloo(rad):\n",
    "        errs = (radNN(X[ixs], Y[ixs], X[row], rad) != Y[row] for (row, ixs) in enumerate(holes))\n",
    "        rate = sum(errs) * 100.0 / N\n",
    "        print(f'r={rad:6.2f}  error: {rate}%')\n",
    "        return rate\n",
    "    \n",
    "    distances = cdist(X, X, 'euclidean')\n",
    "    best_radius  = ternarySearch(rloo, distances.min(), distances.max(), absolutePrecision)\n",
    "    print(f'best radius equals {best_radius}, test:')\n",
    "    rloo(best_radius)"
   ]
  },
  {
   "cell_type": "code",
   "execution_count": 425,
   "metadata": {},
   "outputs": [
    {
     "name": "stdout",
     "output_type": "stream",
     "text": [
      "r=5280.01  error: 39.33927407085416%\n",
      "r=10560.01  error: 39.36100847641817%\n",
      "r=3520.00  error: 39.295805259726144%\n",
      "r=7040.01  error: 39.295805259726144%\n",
      "r=2346.67  error: 38.49163225385786%\n",
      "r=4693.34  error: 39.33927407085416%\n",
      "r=1564.45  error: 37.83960008693762%\n",
      "r=3128.89  error: 38.882851554009996%\n",
      "r=1042.96  error: 36.23125407520104%\n",
      "r=2085.93  error: 38.23081938708976%\n",
      "r=695.31  error: 34.34036079113236%\n",
      "r=1390.62  error: 36.68767659204521%\n",
      "r=463.54  error: 33.81873505759617%\n",
      "r=927.08  error: 35.18800260812867%\n",
      "r=309.03  error: 32.579873940447726%\n",
      "r=618.05  error: 34.27515757444034%\n",
      "r=206.02  error: 31.840904151271463%\n",
      "r=412.04  error: 33.36231254075201%\n",
      "r=137.35  error: 29.906542056074766%\n",
      "r=274.69  error: 32.18865464029559%\n",
      "r= 91.56  error: 29.55879156705064%\n",
      "r=183.13  error: 31.232340795479242%\n",
      "r= 61.04  error: 27.55922625516192%\n",
      "r=122.08  error: 29.928276461638774%\n",
      "r= 40.69  error: 26.885459682677677%\n",
      "r= 81.39  error: 29.145837861334492%\n",
      "r= 27.13  error: 26.646381221473593%\n",
      "r= 54.26  error: 27.25494457726581%\n",
      "r= 18.09  error: 24.842425559660942%\n",
      "r= 36.17  error: 27.276678982829818%\n",
      "r= 12.06  error: 24.47294066507281%\n",
      "r= 24.12  error: 26.211693110193437%\n",
      "r=  8.04  error: 22.929797870028256%\n",
      "r= 16.08  error: 25.059769615301022%\n",
      "r=  5.36  error: 22.60378178656814%\n",
      "r= 10.72  error: 24.538143881764835%\n",
      "r=  3.57  error: 30.8411214953271%\n",
      "r=  7.15  error: 23.27754835905238%\n",
      "r=  5.95  error: 22.516844164312108%\n",
      "r=  8.34  error: 23.27754835905238%\n",
      "r=  5.16  error: 23.016735492284287%\n",
      "r=  6.75  error: 23.299282764616386%\n",
      "r=  4.63  error: 24.625081504020866%\n",
      "r=  5.69  error: 22.429906542056074%\n",
      "r=  5.34  error: 22.69071940882417%\n",
      "r=  6.04  error: 22.712453814388176%\n",
      "r=  5.10  error: 23.234079547924363%\n",
      "r=  5.57  error: 22.429906542056074%\n",
      "r=  5.42  error: 22.47337535318409%\n",
      "r=  5.73  error: 22.47337535318409%\n",
      "r=  5.31  error: 22.7776570310802%\n",
      "r=  5.52  error: 22.516844164312108%\n",
      "r=  5.45  error: 22.712453814388176%\n",
      "r=  5.59  error: 22.429906542056074%\n",
      "r=  5.54  error: 22.47337535318409%\n",
      "r=  5.64  error: 22.38643773092806%\n",
      "r=  5.61  error: 22.60378178656814%\n",
      "r=  5.67  error: 22.429906542056074%\n",
      "r=  5.65  error: 22.429906542056074%\n",
      "r=  5.69  error: 22.429906542056074%\n",
      "best radius equals 5.646390914038607, test:\n",
      "r=  5.65  error: 22.429906542056074%\n"
     ]
    }
   ],
   "source": [
    "findBestRadius(X, Y)"
   ]
  },
  {
   "cell_type": "markdown",
   "metadata": {},
   "source": [
    "### task 5\n",
    "\n",
    "Нормализуйте датасет так, чтобы все признаки лежали в отрезке $[0, 1]$ и повторите вычисления, сделанные в пунктах 2 и 4, на новом датасете."
   ]
  },
  {
   "cell_type": "code",
   "execution_count": 52,
   "metadata": {},
   "outputs": [],
   "source": [
    "nXX = (X - X.min(0)) / X.ptp(0)"
   ]
  },
  {
   "cell_type": "code",
   "execution_count": 8,
   "metadata": {},
   "outputs": [
    {
     "name": "stdout",
     "output_type": "stream",
     "text": [
      "k=1,  error: 8.78070%\n",
      "k=2,  error: 10.45425%\n",
      "k=3,  error: 9.49794%\n",
      "k=4,  error: 10.25864%\n",
      "k=5,  error: 9.51967%\n",
      "k=6,  error: 9.86742%\n",
      "k=7,  error: 9.93262%\n",
      "k=8,  error: 9.93262%\n",
      "k=9,  error: 10.19344%\n",
      "k=10, error: 10.30211%\n"
     ]
    }
   ],
   "source": [
    "loo(nXX, Y)"
   ]
  },
  {
   "cell_type": "code",
   "execution_count": 9,
   "metadata": {},
   "outputs": [
    {
     "name": "stdout",
     "output_type": "stream",
     "text": [
      "r=  0.93  error: 39.295805259726144%\n",
      "r=  1.86  error: 39.404477287546186%\n",
      "r=  0.62  error: 36.752879808737234%\n",
      "r=  1.24  error: 39.33927407085416%\n",
      "r=  0.41  error: 26.47250597696153%\n",
      "r=  0.83  error: 38.90458595957401%\n",
      "r=  0.28  error: 19.908715496631167%\n",
      "r=  0.55  error: 33.86220386872419%\n",
      "r=  0.18  error: 21.191045424907628%\n",
      "r=  0.37  error: 23.103673114540317%\n",
      "r=  0.12  error: 28.47207128885025%\n",
      "r=  0.25  error: 18.974136057378832%\n",
      "r=  0.20  error: 19.952184307759183%\n",
      "r=  0.29  error: 19.647902629863072%\n",
      "r=  0.26  error: 18.930667246250817%\n",
      "r=  0.31  error: 20.60421647467942%\n",
      "r=  0.24  error: 19.19148011301891%\n",
      "r=  0.28  error: 19.908715496631167%\n",
      "r=  0.23  error: 19.77830906324712%\n",
      "r=  0.25  error: 19.148011301890893%\n",
      "r=  0.24  error: 19.148011301890893%\n",
      "r=  0.26  error: 19.061073679634863%\n",
      "r=  0.26  error: 19.25668332971093%\n",
      "r=  0.27  error: 19.626168224299064%\n",
      "r=  0.25  error: 19.234948924146924%\n",
      "r=  0.26  error: 18.930667246250817%\n",
      "r=  0.26  error: 19.017604868506847%\n",
      "r=  0.26  error: 19.061073679634863%\n",
      "r=  0.26  error: 19.25668332971093%\n",
      "r=  0.26  error: 18.908932840686806%\n",
      "r=  0.26  error: 19.061073679634863%\n",
      "r=  0.26  error: 18.887198435122798%\n",
      "best radius equals 0.25947196963868974, test:\n",
      "r=  0.26  error: 18.887198435122798%\n"
     ]
    }
   ],
   "source": [
    "findBestRadius(nXX, Y, absolutePrecision=0.005)"
   ]
  },
  {
   "cell_type": "markdown",
   "metadata": {},
   "source": [
    "### task 6\n",
    "\n",
    "Реализуйте алгоритм $\\texttt{WkNN}$ с весом $\\max\\left[0, \\frac{r - \\rho(x_i, x)}{r}\\right]$, и подберите лучшую константу $r$."
   ]
  },
  {
   "cell_type": "code",
   "execution_count": 66,
   "metadata": {},
   "outputs": [],
   "source": [
    "def wknn(X, Y, x: np.ndarray, k, r):\n",
    "    Y = Y * 2 - 1  # change answers to {-1, 1}\n",
    "    dists = cdist([x], X, 'euclidean')[0]\n",
    "    nearest = dists.argpartition(k, axis=0)[:k]\n",
    "    weights = np.maximum(0, (r - dists[nearest]) / r)\n",
    "    return int((Y[nearest] * weights).sum() >= 0)\n",
    "    \n",
    "\n",
    "def findR(X, Y, k=6, absolutePrecision=0.1):\n",
    "    N = Y.size\n",
    "    \n",
    "    # for each row R: make a hole at R in the X\n",
    "    holes = np.arange(1, N) - np.tri(N, N - 1, k=-1, dtype=bool)\n",
    "    \n",
    "    def rloo(r, show=False):\n",
    "        errs = (wknn(X[ixs], Y[ixs], X[row], k, r) != Y[row] for (row, ixs) in enumerate(holes))\n",
    "        rate = sum(errs) * 100.0 / N\n",
    "        if show: print(f'r={r:8.3f}  error: {rate}%')\n",
    "        return rate\n",
    "    \n",
    "    distances = cdist(X, X, 'euclidean')\n",
    "    best_radius = ternarySearch(rloo, distances.min(), 100 * distances.max(), absolutePrecision)\n",
    "    print(f'k={k}, best ', end='')\n",
    "    rloo(best_radius, show=True)"
   ]
  },
  {
   "cell_type": "code",
   "execution_count": 67,
   "metadata": {},
   "outputs": [
    {
     "name": "stdout",
     "output_type": "stream",
     "text": [
      "k=1, best r=   0.902  error: 8.737231036731146%\n",
      "k=2, best r=   0.902  error: 8.737231036731146%\n",
      "k=3, best r=   0.903  error: 9.324059986959357%\n",
      "k=4, best r=   0.934  error: 8.845903064551184%\n",
      "k=5, best r=   0.934  error: 9.345794392523365%\n",
      "k=6, best r=   0.902  error: 8.932840686807216%\n",
      "k=7, best r=   0.933  error: 9.737013692675506%\n",
      "k=8, best r=   0.902  error: 9.150184742447294%\n",
      "k=9, best r=   0.615  error: 9.758748098239513%\n",
      "k=10, best r=   0.934  error: 9.628341664855466%\n"
     ]
    }
   ],
   "source": [
    "for k in range(1, 11):\n",
    "    findR(nXX, Y, k)"
   ]
  },
  {
   "cell_type": "markdown",
   "metadata": {},
   "source": [
    "Заметим, что обычный $\\texttt{kNN}$ имел следующие показатели (на 0.5-1.5% хуже):\n",
    "\n",
    "```\n",
    "k=1,  error: 8.78070%\n",
    "k=2,  error: 10.45425%\n",
    "k=3,  error: 9.49794%\n",
    "k=4,  error: 10.25864%\n",
    "k=5,  error: 9.51967%\n",
    "k=6,  error: 9.86742%\n",
    "k=7,  error: 9.93262%\n",
    "k=8,  error: 9.93262%\n",
    "k=9,  error: 10.19344%\n",
    "k=10, error: 10.30211%\n",
    "```"
   ]
  },
  {
   "cell_type": "markdown",
   "metadata": {},
   "source": [
    "### task 7\n",
    "\n",
    "Реализуйте алгоритм $\\texttt{KDTree}$ и сравните время работы."
   ]
  }
 ],
 "metadata": {
  "kernelspec": {
   "display_name": "Python 3",
   "language": "python",
   "name": "python3"
  },
  "language_info": {
   "codemirror_mode": {
    "name": "ipython",
    "version": 3
   },
   "file_extension": ".py",
   "mimetype": "text/x-python",
   "name": "python",
   "nbconvert_exporter": "python",
   "pygments_lexer": "ipython3",
   "version": "3.6.4"
  }
 },
 "nbformat": 4,
 "nbformat_minor": 2
}
